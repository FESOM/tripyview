{
 "cells": [
  {
   "cell_type": "code",
   "execution_count": 22,
   "id": "6b4d701e",
   "metadata": {},
   "outputs": [
    {
     "data": {
      "image/png": "[encoded data removed]",
      "text/plain": [
       "<Figure size 432x288 with 1 Axes>"
      ]
     },
     "metadata": {
      "needs_background": "light"
     },
     "output_type": "display_data"
    }
   ],
   "source": [
    "import sys\n",
    "sys.path.append(\"./src/\")\n",
    "from sub_mesh        import * \n",
    "from sub_data        import * \n",
    "from sub_plot        import * \n",
    "from sub_climatology import *\n",
    "from sub_index       import *\n",
    "from   shapely.geometry   import Point, Polygon, MultiPolygon, shape\n",
    "from   shapely.vectorized import contains\n",
    "import shapefile as shp\n",
    "import json\n",
    "import geopandas as gpd\n",
    "\n",
    "\n",
    "# region = 'Labrador_Sea'\n",
    "# region = 'Greenland_Sea'\n",
    "# region = 'Norwegian_Sea'\n",
    "# region = 'Irminger_Sea'\n",
    "# region = 'Weddell_Sea'\n",
    "# region = 'Chukchi_Sea'\n",
    "# region = 'Bering_Sea'\n",
    "# region = 'Beaufort_Sea'\n",
    "# region = 'Barents_Sea'\n",
    "# region = 'Indian_Ocean'\n",
    "# region = 'Canada_Basin'\n",
    "# region = 'Kara_Sea'\n",
    "# region = 'Laptev_Sea'\n",
    "# region = 'Southern_Ocean'\n",
    "# region = 'Global_Ocean_15S_to_15N'\n",
    "# region = 'North_Pacific_Ocean'\n",
    "# region = 'South_Pacific_Ocean'\n",
    "# region = 'North_Atlantic_Ocean'\n",
    "# region = 'South_Atlantic_Ocean'\n",
    "# region = 'Sea_of_Okhotsk'\n",
    "# region = 'Japan_Sea'\n",
    "# region = 'Philippine_Sea'#\n",
    "# region ='North_Sea'\n",
    "# region = 'Amundsen_Sea'\n",
    "# region = 'North_Sea'\n",
    "# region = 'Java_Sea'\n",
    "# region = 'Nino_3.4'\n",
    "# region = 'South_Atlantic_Ocean'\n",
    "# region = 'South_China_Sea'\n",
    "# region = 'Weddell_Sea_Deep'\n",
    "# region = 'Weddell_Sea_Shelf'\n",
    "# region = 'Western_Ross_Sea'\n",
    "# region = 'Western_Ross_Sea_Deep'\n",
    "# region = 'Western_Ross_Sea_Shelf'\n",
    "region = 'Western_Weddell_Sea'\n",
    "region = 'Western_Weddell_Sea_Deep'\n",
    "region = 'Western_Weddell_Sea_Shelf'\n",
    "geojsonfilepath = '/home/ollie/pscholz/software/geometric_features/geometric_data/ocean/region/'+region+'/region.geojson'\n",
    "shppath = '/home/ollie/pscholz/tripyview_github/src/shapefiles/mpas_region/'\n",
    "convert_geojson2shp(geojsonfilepath, shppath, do_plot=True)"
   ]
  }
 ],
 "metadata": {
  "kernelspec": {
   "display_name": "Python 3 (ipykernel)",
   "language": "python",
   "name": "python3"
  },
  "language_info": {
   "codemirror_mode": {
    "name": "ipython",
    "version": 3
   },
   "file_extension": ".py",
   "mimetype": "text/x-python",
   "name": "python",
   "nbconvert_exporter": "python",
   "pygments_lexer": "ipython3",
   "version": "3.7.10"
  }
 },
 "nbformat": 4,
 "nbformat_minor": 5
}
