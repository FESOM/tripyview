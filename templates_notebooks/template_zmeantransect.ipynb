{
 "cells": [
  {
   "cell_type": "code",
   "execution_count": 1,
   "metadata": {},
   "outputs": [
    {
     "name": "stdout",
     "output_type": "stream",
     "text": [
      "/home/ollie/pscholz/tripyview_github\n"
     ]
    }
   ],
   "source": [
    "# get_ipython().magic('matplotlib notebook')\n",
    "get_ipython().magic('matplotlib inline')\n",
    "get_ipython().magic('load_ext autoreload')\n",
    "get_ipython().magic('autoreload 2')\n",
    "#___________________________________________________________________________________________________________________\n",
    "import os\n",
    "import tripyview as tpv\n",
    "import shapefile as shp\n",
    "import numpy as np"
   ]
  },
  {
   "cell_type": "code",
   "execution_count": 2,
   "metadata": {
    "tags": [
     "parameters"
    ]
   },
   "outputs": [],
   "source": [
    "# Parameters\n",
    "# mesh_path ='/work/ollie/projects/clidyn/FESOM2/meshes/core2/'\n",
    "mesh_path ='/work/ollie/pscholz/mesh_fesom2.0/core2_srt_dep@node/'\n",
    "save_path = None #'~/figures/test_papermill/'\n",
    "save_fname= None\n",
    "\n",
    "#_____________________________________________________________________________________\n",
    "which_cycl= 4 #5\n",
    "which_mode= 'zmeantransects'\n",
    "\n",
    "#_____________________________________________________________________________________\n",
    "input_paths= list()\n",
    "# input_paths.append('/home/ollie/pscholz/results/trr181_tke+idemix_jayne_bin_ck0.1/')\n",
    "# input_paths.append('/home/ollie/pscholz/results/trr181_tke+idemix_nycander_bin_ck0.1/')\n",
    "# input_paths.append('/home/ollie/pscholz/results/trr181_tke+idemix_stormtide_bin_ck0.1/')\n",
    "input_paths.append('/home/ollie/pscholz/results/trr181_tke_ctrl_ck0.1_v2/')\n",
    "\n",
    "input_names= list()\n",
    "# input_names.append('TKE+IDEMIX, jayne')\n",
    "# input_names.append('TKE+IDEMIX, nycander')\n",
    "# input_names.append('TKE+IDEMIX, stormtide')\n",
    "input_names.append('TKE')\n",
    "\n",
    "vname     = 'temp'\n",
    "year      = [1979,2019]\n",
    "mon, day, record, box, depth = None, None, None, None, None\n",
    "\n",
    "#_____________________________________________________________________________________\n",
    "# do anomaly plots in case ref_path is not None\n",
    "ref_path  = None #'/home/ollie/pscholz/results/trr181_tke_ctrl_ck0.1/' # None\n",
    "ref_name  = None #'TKE, ck=0.1' # None\n",
    "ref_year  = None # [2009,2019]\n",
    "ref_mon, ref_day, ref_record = None, None, None\n",
    "\n",
    "#_____________________________________________________________________________________\n",
    "box_region = list()\n",
    "box_region.append('global')\n",
    "# box_region.append('ocean_basins/Arctic_Basin.shp')\n",
    "#box_region.append('ocean_basins/Eurasian_Basin.shp')\n",
    "#box_region.append('ocean_basins/Atlantic_Basin.shp')\n",
    "#box_region.append('mpas_region/Canada_Basin.shp')\n",
    "#box_region.append('mpas_region/North_Atlantic_Ocean.shp')\n",
    "#box_region.append('mpas_region/Greenland_Sea.shp')\n",
    "#box_region.append('mpas_region/Irminger_Sea.shp')\n",
    "#box_region.append('mpas_region/Norwegian_Sea.shp')\n",
    "#box_region.append('mpas_region/Labrador_Sea.shp')\n",
    "#box_region.append('mpas_region/North_Pacific_Ocean.shp')\n",
    "#box_region.append('mpas_region/South_Pacific_Ocean.shp')\n",
    "#box_region.append('mpas_region/Southern_Ocean.shp')\n",
    "#box_region.append('mpas_region/Western_Weddell_Sea.shp')\n",
    "\n",
    "#_____________________________________________________________________________________\n",
    "do_clim   = True\n",
    "which_clim= 'phc3'\n",
    "clim_path = '/work/ollie/pscholz/INIT_HYDRO/phc3.0/phc3.0_annual.nc'\n",
    "\n",
    "#_____________________________________________________________________________________\n",
    "cstr      = 'blue2red'\n",
    "cnum      = 20\n",
    "cref      = None\n",
    "crange, cmin, cmax, cfac, climit = None, None, None, None, None\n",
    "chist, ctresh = True, 0.995\n",
    "\n",
    "#_____________________________________________________________________________________\n",
    "ncolumn   = 3 \n",
    "do_rescale= None\n",
    "which_dpi = 300\n",
    "do_contour= True\n",
    "do_ylog   = False"
   ]
  },
  {
   "cell_type": "code",
   "execution_count": 3,
   "metadata": {
    "scrolled": false
   },
   "outputs": [
    {
     "name": "stdout",
     "output_type": "stream",
     "text": [
      " > found *.pckl file: /work/ollie/pscholz/mesh_fesom2.0/core2_srt_dep@node\n",
      " > load  *.pckl file: tripyview_fesom2_core2_srt_dep@node.pckl\n",
      "___FESOM2 MESH INFO________________________\n",
      " > path            = /work/ollie/pscholz/mesh_fesom2.0/core2_srt_dep@node\n",
      " > id              = core2_srt_dep@node\n",
      " > do rot          = None\n",
      " > [al,be,ga]      = 50, 15, -90\n",
      " > do augmpbnd     = True\n",
      " > do cavity       = False\n",
      " > do lsmask       = True\n",
      " > do earea,eresol = True, False\n",
      " > do narea,nresol = True, True\n",
      "___________________________________________\n",
      " > #node           = 126858\n",
      " > #elem           = 244659\n",
      " > #lvls           = 48\n",
      "___________________________________________\n",
      "0 /home/ollie/pscholz/results/trr181_tke_ctrl_ck0.1_v2/4/\n"
     ]
    }
   ],
   "source": [
    "#___LOAD FESOM2 MESH___________________________________________________________________________________\n",
    "mesh=tpv.load_mesh_fesom2(mesh_path, do_rot='None', focus=0, do_info=True, do_pickle=True)\n",
    "\n",
    "#______________________________________________________________________________________________________\n",
    "if which_cycl is not None: \n",
    "    for ii,ipath in enumerate(input_paths):\n",
    "        # print(ii, ipath, ipath[0])\n",
    "        input_paths[ii] = os.path.join(ipath,'{:d}/'.format(which_cycl))\n",
    "        print(ii, input_paths[ii])\n",
    "    \n",
    "    if ref_path is not None:\n",
    "        ref_path = os.path.join(ref_path,'{:d}/'.format(which_cycl))\n",
    "        print('R', ref_path)\n",
    "        \n",
    "#______________________________________________________________________________________________________        \n",
    "cinfo=dict({'cstr':cstr, 'cnum':cnum}) \n",
    "if crange   is not None: cinfo['crange']=crange\n",
    "if cmin     is not None: cinfo['cmin'  ]=cmin\n",
    "if cmax     is not None: cinfo['cmax'  ]=cmax\n",
    "if cref     is not None: cinfo['cref'  ]=cref\n",
    "if cfac     is not None: cinfo['cfac'  ]=cfac \n",
    "if climit   is not None: cinfo['climit']=climit  \n",
    "if chist    is not None: cinfo['chist' ]=chist\n",
    "if ctresh   is not None: cinfo['ctresh']=ctresh    \n",
    "if ref_path is not None: cinfo['cref'  ]=0.0    \n",
    "    \n",
    "#______________________________________________________________________________________________________\n",
    "# in case of diff plots\n",
    "if ref_path is not None:\n",
    "    if ref_year   is None: ref_year   = year\n",
    "    if ref_mon    is None: ref_mon    = mon\n",
    "    if ref_record is None: ref_record = record\n",
    "        \n",
    "#________________________________________________________________________________________________________\n",
    "# define index regions --> reading shape files\n",
    "box = list()\n",
    "shp_path = os.path.join(tpv.__path__[0],'shapefiles/')\n",
    "for region in box_region:\n",
    "    if region is 'global' or isinstance(region,list): box.append(region)\n",
    "    else: box.append(shp.Reader(os.path.join(shp_path,region)))       "
   ]
  },
  {
   "cell_type": "code",
   "execution_count": 4,
   "metadata": {
    "scrolled": false
   },
   "outputs": [
    {
     "name": "stdout",
     "output_type": "stream",
     "text": [
      "/home/ollie/pscholz/results/trr181_tke_ctrl_ck0.1_v2/4/ TKE\n"
     ]
    }
   ],
   "source": [
    "#___LOAD FESOM2 REFERENCE DATA________________________________________________________________________\n",
    "if ref_path is not None:\n",
    "    print(ref_path)\n",
    "    if vname=='Kv*N2':     \n",
    "        data_ref  = tpv.load_data_fesom2(mesh, ref_path, vname='Kv', year=ref_year, mon=ref_mon, descript=ref_name , do_info=False, do_zarithm=None)\n",
    "        data2_ref = tpv.load_data_fesom2(mesh, ref_path, vname='N2', year=ref_year, mon=ref_mon, descript=ref_name , do_info=False, do_zarithm=None)\n",
    "        data_ref['Kv'].data = data_ref['Kv'].data * data2_ref['N2'].data\n",
    "        data_ref  = data_ref.rename(dict({'Kv':'Kv*N2'}))\n",
    "        data_ref['Kv*N2'].attrs['units'], data_ref['Kv*N2'].attrs['description'], data_ref['Kv*N2'].attrs['long_name'] = '$m^2/s^3$', '(Kv)*(N^2)', '$\\\\overline{{Kv}} \\\\cdot \\\\overline{{N^2}}$'\n",
    "        del(data2_ref)\n",
    "    elif vname=='KvN2':     \n",
    "        data_ref  = tpv.load_data_fesom2(mesh, ref_path, vname='KvN2', year=ref_year, mon=ref_mon, descript=ref_name , do_info=False, do_zarithm=None)\n",
    "        data_ref['KvN2'].attrs['units'], data_ref['KvN2'].attrs['description'], data_ref['KvN2'].attrs['long_name'] = '$m^2/s^3$', '(Kv*N^2)', '$\\\\overline{{Kv \\\\cdot N^2}}$'\n",
    "    elif vname=='KvN2/N2':     \n",
    "        data_ref  = tpv.load_data_fesom2(mesh, ref_path, vname='KvN2', year=ref_year, mon=ref_mon, descript=ref_name , do_info=False, do_zarithm=None)\n",
    "        data2_ref = tpv.load_data_fesom2(mesh, ref_path, vname='N2', year=ref_year, mon=ref_mon, descript=ref_name , do_info=False, do_zarithm=None)\n",
    "        data_ref['KvN2'].data = data_ref['KvN2'].data / data2_ref['N2'].data\n",
    "        data_ref  = data_ref.rename(dict({'KvN2':'KvN2/N2'}))\n",
    "        data_ref['KvN2/N2'].attrs['units'], data_ref['KvN2/N2'].attrs['description'], data_ref['KvN2/N2'].attrs['long_name'] = '$m^2/s$', '(Kv*N^2)/N2', '$\\\\overline{{Kv \\\\cdot N^2}} / \\\\overline{{N^2}}$'\n",
    "        del(data2_ref)\n",
    "    else:\n",
    "        data_ref = tpv.load_data_fesom2(mesh, ref_path, vname=vname, year=ref_year, mon=ref_mon, descript=ref_name, do_info=False, do_zarithm=None) \n",
    "    #__________________________________________________________________________________________________    \n",
    "    data_ref = tpv.load_zmeantransect_fesom2(mesh, data_ref, box, do_compute=True)\n",
    "\n",
    "#___LOAD FESOM2 DATA___________________________________________________________________________________\n",
    "list_zmtransects = list()\n",
    "for datapath, descript in zip(input_paths, input_names):\n",
    "    print(datapath, descript)\n",
    "    if vname=='Kv*N2':\n",
    "        data  = tpv.load_data_fesom2(mesh, datapath, vname='Kv' , year=year, mon=mon, descript=descript , do_info=False, do_zarithm=None)\n",
    "        data2 = tpv.load_data_fesom2(mesh, datapath, vname='N2' , year=year, mon=mon, descript=descript , do_info=False, do_zarithm=None)\n",
    "        data['Kv'].data = data['Kv'].data * data2['N2'].data\n",
    "        data  = data.rename(dict({'Kv':'Kv*N2'}))\n",
    "        data['Kv*N2'].attrs['units'], data['Kv*N2'].attrs['description'], data['Kv*N2'].attrs['long_name'] = '$m^2/s^3$', '(Kv)*(N^2)', '$\\\\overline{{Kv}} \\\\cdot \\\\overline{{N^2}}$'\n",
    "        del(data2)\n",
    "    elif vname=='KvN2':\n",
    "        data  = tpv.load_data_fesom2(mesh, datapath, vname='KvN2' , year=year, mon=mon, descript=descript , do_info=False, do_zarithm=None)\n",
    "        data['KvN2'].attrs['units'], data['KvN2'].attrs['description'], data['KvN2'].attrs['long_name'] = '$m^2/s^3$', '(Kv*N^2)', '$\\\\overline{{Kv \\\\cdot N^2}}$'\n",
    "    elif vname=='KvN2/N2':\n",
    "        data  = tpv.load_data_fesom2(mesh, datapath, vname='KvN2' , year=year, mon=mon, descript=descript , do_info=False, do_zarithm=None)\n",
    "        data2 = tpv.load_data_fesom2(mesh, datapath, vname='N2' , year=year, mon=mon, descript=descript , do_info=False, do_zarithm=None)\n",
    "        data['KvN2'].data = data['KvN2'].data / data2['N2'].data\n",
    "        data  = data.rename(dict({'KvN2':'KvN2/N2'}))\n",
    "        data['KvN2/N2'].attrs['units'], data['KvN2/N2'].attrs['description'], data['KvN2/N2'].attrs['long_name'] = '$m^2/s$', '(Kv*N)/N2', '$\\\\overline{{Kv \\\\cdot N^2}} / \\\\overline{{N^2}}$'\n",
    "        del(data2)    \n",
    "    else:\n",
    "        data  = tpv.load_data_fesom2(mesh, datapath, vname=vname, year=year, mon=mon, descript=descript , do_info=False, do_zarithm=None)\n",
    "    #__________________________________________________________________________________________________        \n",
    "    data_zmtransect = tpv.load_zmeantransect_fesom2(mesh, data, box, do_compute=True)\n",
    " \n",
    "    #__________________________________________________________________________________________________    \n",
    "    if ref_path is not None:\n",
    "        list_zmtransects.append(tpv.do_transectanomaly(data_zmtransect, data_ref))  \n",
    "    else:\n",
    "        list_zmtransects.append(data_zmtransect)  \n",
    "    del(data, data_zmtransect)\n",
    "    \n",
    "if ref_path is not None: del(data_ref)\n",
    "\n",
    "#___APPEND ABS CLIMATOLOGY_____________________________________________________________________________    \n",
    "if (vname in ['temp', 'salt', 'pdens'] or 'sigma' in vname) and do_clim and (ref_path is None): \n",
    "    clim_vname= vname\n",
    "    if   vname=='temp' and  which_clim.lower()=='woa18': clim_vname = 't00an1'\n",
    "    elif vname=='salt' and  which_clim.lower()=='woa18': clim_vname = 's00an1'\n",
    "    clim            = tpv.load_climatology(mesh, clim_path, clim_vname)\n",
    "    clim_zmtransect = tpv.load_zmeantransect_fesom2(mesh, clim, box, do_compute=True, diagpath=input_paths[0])\n",
    "    list_zmtransects.append(clim_zmtransect)  \n",
    "    del(clim, clim_zmtransect)"
   ]
  },
  {
   "cell_type": "code",
   "execution_count": 5,
   "metadata": {
    "scrolled": false
   },
   "outputs": [
    {
     "name": "stdout",
     "output_type": "stream",
     "text": [
      "--> histo: cmin, cmax =  -1.7535802677049845 27.33386437291414\n",
      "--> histo: cmin, cmax =  -1.7535802677049845 27.434658888579143\n",
      "{'cstr': 'blue2red', 'cnum': 20, 'chist': True, 'ctresh': 0.995, 'cmin': -1.75, 'cmax': 27.43, 'cref': 13.0, 'cmap': <matplotlib.colors.ListedColormap object at 0x7fad94060750>, 'clevel': array([-2., -1.,  0.,  1.,  2.,  3.,  4.,  5.,  6.,  7.,  8.,  9., 10.,\n",
      "       11., 12., 13., 14., 15., 16., 17., 18., 19., 20., 21., 22., 23.,\n",
      "       24., 25., 26., 27., 28.])}\n"
     ]
    },
    {
     "ename": "NameError",
     "evalue": "name 'matplotlib' is not defined",
     "output_type": "error",
     "traceback": [
      "\u001b[0;31m---------------------------------------------------------------------------\u001b[0m",
      "\u001b[0;31mNameError\u001b[0m                                 Traceback (most recent call last)",
      "\u001b[0;32m/work/ollie/tmp/ipykernel_126792/2951309241.py\u001b[0m in \u001b[0;36m<module>\u001b[0;34m\u001b[0m\n\u001b[1;32m     11\u001b[0m fig, ax, cbar = tpv.plot_zmeantransects(list_zmtransects, cinfo=cinfo, figsize=[ncolumn*7, nrow*3.5], n_rc=[nrow, ncolumn], \n\u001b[1;32m     12\u001b[0m                 \u001b[0mdo_rescale\u001b[0m\u001b[0;34m=\u001b[0m\u001b[0mdo_rescale\u001b[0m\u001b[0;34m,\u001b[0m \u001b[0mpos_gap\u001b[0m\u001b[0;34m=\u001b[0m\u001b[0;34m[\u001b[0m\u001b[0;36m0.01\u001b[0m\u001b[0;34m,\u001b[0m \u001b[0;36m0.01\u001b[0m\u001b[0;34m]\u001b[0m\u001b[0;34m,\u001b[0m \u001b[0mpos_extend\u001b[0m\u001b[0;34m=\u001b[0m\u001b[0;34m[\u001b[0m\u001b[0;36m0.05\u001b[0m\u001b[0;34m,\u001b[0m \u001b[0;36m0.05\u001b[0m\u001b[0;34m,\u001b[0m \u001b[0;36m0.85\u001b[0m\u001b[0;34m,\u001b[0m\u001b[0;36m0.90\u001b[0m\u001b[0;34m]\u001b[0m\u001b[0;34m,\u001b[0m \u001b[0mcbar_nl\u001b[0m\u001b[0;34m=\u001b[0m\u001b[0;36m12\u001b[0m\u001b[0;34m,\u001b[0m \u001b[0mdo_ylog\u001b[0m \u001b[0;34m=\u001b[0m \u001b[0mdo_ylog\u001b[0m\u001b[0;34m,\u001b[0m\u001b[0;34m\u001b[0m\u001b[0;34m\u001b[0m\u001b[0m\n\u001b[0;32m---> 13\u001b[0;31m                 do_save = spath, save_dpi=which_dpi, do_contour=do_contour )\n\u001b[0m",
      "\u001b[0;32m~/tripyview_github/tripyview/sub_transect.py\u001b[0m in \u001b[0;36mplot_zmeantransects\u001b[0;34m(data, figsize, n_rc, do_grid, cinfo, do_rescale, cbar_nl, cbar_orient, cbar_label, cbar_unit, do_bottom, max_dep, color_bot, pos_fac, pos_gap, do_save, save_dpi, do_contour, do_clabel, title, do_ylog, pos_extend)\u001b[0m\n\u001b[1;32m    796\u001b[0m         \u001b[0;31m#ax[ii].set_yscale('log')\u001b[0m\u001b[0;34m\u001b[0m\u001b[0;34m\u001b[0m\u001b[0;34m\u001b[0m\u001b[0m\n\u001b[1;32m    797\u001b[0m         \u001b[0;31m#ax[ii].set_yticks([5,10,25,50,100,250,500,1000,2000,4000,6000])\u001b[0m\u001b[0;34m\u001b[0m\u001b[0;34m\u001b[0m\u001b[0;34m\u001b[0m\u001b[0m\n\u001b[0;32m--> 798\u001b[0;31m         \u001b[0max\u001b[0m\u001b[0;34m[\u001b[0m\u001b[0mii\u001b[0m\u001b[0;34m]\u001b[0m\u001b[0;34m.\u001b[0m\u001b[0mget_yaxis\u001b[0m\u001b[0;34m(\u001b[0m\u001b[0;34m)\u001b[0m\u001b[0;34m.\u001b[0m\u001b[0mset_major_formatter\u001b[0m\u001b[0;34m(\u001b[0m\u001b[0mmatplotlib\u001b[0m\u001b[0;34m.\u001b[0m\u001b[0mticker\u001b[0m\u001b[0;34m.\u001b[0m\u001b[0mScalarFormatter\u001b[0m\u001b[0;34m(\u001b[0m\u001b[0;34m)\u001b[0m\u001b[0;34m)\u001b[0m\u001b[0;34m\u001b[0m\u001b[0;34m\u001b[0m\u001b[0m\n\u001b[0m\u001b[1;32m    799\u001b[0m \u001b[0;34m\u001b[0m\u001b[0m\n\u001b[1;32m    800\u001b[0m     \u001b[0mnax_fin\u001b[0m \u001b[0;34m=\u001b[0m \u001b[0mii\u001b[0m\u001b[0;34m+\u001b[0m\u001b[0;36m1\u001b[0m\u001b[0;34m\u001b[0m\u001b[0;34m\u001b[0m\u001b[0m\n",
      "\u001b[0;31mNameError\u001b[0m: name 'matplotlib' is not defined"
     ]
    },
    {
     "data": {
      "image/png": "[encoded data removed]",
      "text/plain": [
       "<Figure size 1008x252 with 2 Axes>"
      ]
     },
     "metadata": {
      "needs_background": "light"
     },
     "output_type": "display_data"
    }
   ],
   "source": [
    "#___PLOT FESOM2 DATA___________________________________________________________________________________\n",
    "spath  = save_path\n",
    "sname  = vname\n",
    "slabel = list_zmtransects[0][0][sname].attrs['str_lsave']\n",
    "strans = list_zmtransects[0][0][vname].attrs['transect_name'].replace(' ','_').lower()\n",
    "if spath is not None: spath  = '{}/{}_{}_{}_{}.png'.format(spath, which_mode, sname, strans, slabel) \n",
    "ncolumn= np.min([ncolumn,len(list_zmtransects)])        \n",
    "nrow   = np.ceil(len(list_zmtransects)/ncolumn).astype('int')\n",
    "if save_fname is not None: spath = save_fname\n",
    "\n",
    "fig, ax, cbar = tpv.plot_zmeantransects(list_zmtransects, cinfo=cinfo, figsize=[ncolumn*7, nrow*3.5], n_rc=[nrow, ncolumn], \n",
    "                do_rescale=do_rescale, pos_gap=[0.01, 0.01], pos_extend=[0.05, 0.05, 0.85,0.90], cbar_nl=12, do_ylog = do_ylog, \n",
    "                do_save = spath, save_dpi=which_dpi, do_contour=do_contour )"
   ]
  }
 ],
 "metadata": {
  "celltoolbar": "Tags",
  "kernelspec": {
   "display_name": "Python 3 (ipykernel)",
   "language": "python",
   "name": "python3"
  },
  "language_info": {
   "codemirror_mode": {
    "name": "ipython",
    "version": 3
   },
   "file_extension": ".py",
   "mimetype": "text/x-python",
   "name": "python",
   "nbconvert_exporter": "python",
   "pygments_lexer": "ipython3",
   "version": "3.7.10"
  },
  "latex_envs": {
   "LaTeX_envs_menu_present": true,
   "autoclose": false,
   "autocomplete": true,
   "bibliofile": "biblio.bib",
   "cite_by": "apalike",
   "current_citInitial": 1,
   "eqLabelWithNumbers": true,
   "eqNumInitial": 1,
   "hotkeys": {
    "equation": "Ctrl-E",
    "itemize": "Ctrl-I"
   },
   "labels_anchors": false,
   "latex_user_defs": false,
   "report_style_numbering": false,
   "user_envs_cfg": false
  }
 },
 "nbformat": 4,
 "nbformat_minor": 2
}
