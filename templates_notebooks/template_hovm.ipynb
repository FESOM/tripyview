{
 "cells": [
  {
   "cell_type": "code",
   "execution_count": 1,
   "metadata": {},
   "outputs": [
    {
     "name": "stdout",
     "output_type": "stream",
     "text": [
      "/albedo/home/pscholz/tripyview\n"
     ]
    }
   ],
   "source": [
    "# get_ipython().magic('matplotlib notebook')\n",
    "# get_ipython().magic('matplotlib inline')\n",
    "# get_ipython().magic('load_ext autoreload')\n",
    "# get_ipython().magic('autoreload 2')\n",
    "%matplotlib inline\n",
    "%load_ext autoreload\n",
    "%autoreload 2\n",
    "    \n",
    "#___________________________________________________________________________________________________________________\n",
    "import os\n",
    "import tripyview as tpv\n",
    "import shapefile as shp\n",
    "import numpy     as np\n",
    "import xarray    as xr\n",
    "import time      as clock\n",
    "import warnings\n",
    "xr.set_options(keep_attrs=True)\n",
    "do_parallel   = False\n",
    "parallel_nprc = 48   # number of dask workers\n",
    "parallel_tmem = 200  # max. available RAM"
   ]
  },
  {
   "cell_type": "markdown",
   "metadata": {},
   "source": [
    "### INFO:\n",
    "To compute especially on large unstructured grids #vertices>1M, you need to run this notebook in parallel (do_parallel=True) on several workers (parallel_nprc...is the number of dask worker that can be allocated, parallel_tmem...is the maximum available RAM that will be distributed between the dask workers). Therefor allocate a full !!! COMPUTE NODE !!! (admins might not be happy if you do this in parallel on a login node) of a HPC of your choice with as much memory (RAM) as you can get to run this notebook!"
   ]
  },
  {
   "cell_type": "code",
   "execution_count": 2,
   "metadata": {},
   "outputs": [
    {
     "name": "stdout",
     "output_type": "stream",
     "text": [
      " --> memory_limit: 4.167 GB\n"
     ]
    }
   ],
   "source": [
    "if do_parallel:\n",
    "    from dask.distributed import Client\n",
    "    # from dask.diagnostics import ProgressBar\n",
    "    import dask\n",
    "    print(' --> memory_limit: {:3.3f} GB'.format(parallel_tmem/(parallel_nprc)))\n",
    "    ## dask.config.config.get('distributed').get('dashboard').update({'link':'{JUPYTERHUB_SERVICE_PREFIX}/proxy/{port}/status'})\n",
    "    client = Client(n_workers=parallel_nprc, threads_per_worker=1, memory_limit='{:3.3f} GB'.format(parallel_tmem/parallel_nprc))\n",
    "    client"
   ]
  },
  {
   "cell_type": "code",
   "execution_count": 3,
   "metadata": {
    "tags": [
     "parameters"
    ]
   },
   "outputs": [],
   "source": [
    "# Parameters\n",
    "# mesh_path ='/work/ollie/projects/clidyn/FESOM2/meshes/core2/'\n",
    "mesh_path = '/albedo/work/user/pscholz/mesh_fesom2.0/core2_srt_dep@node/'\n",
    "# mesh_path = '/albedo/work/user/pscholz/mesh_fesom2.0/dart_test/'\n",
    "save_path = None \n",
    "save_fname= None\n",
    "\n",
    "#_____________________________________________________________________________________\n",
    "which_cycl= None #5 # set None --> take path as in input_paths otherwise add dir of cycle\n",
    "which_mode= 'hovm'\n",
    "\n",
    "input_paths= list()\n",
    "# input_paths.append('/albedo/work/projects/p_fesom/pscholz/project_TRR181/trr181_tke+idemix_jayne_bin_ck0.1/5/')\n",
    "# input_paths.append('/albedo/work/projects/p_fesom/pscholz/project_TRR181/trr181_tke+idemix_nycander_bin_ck0.1/')\n",
    "# input_paths.append('/albedo/work/projects/p_fesom/pscholz/project_TRR181/trr181_tke+idemix_stormtide_bin_ck0.1/')\n",
    "input_paths.append('/albedo/work/projects/p_fesom/pscholz/project_TRR181/trr181_tke_ctrl_ck0.1/5/')\n",
    "# input_paths.append('/albedo/work/user/pscholz/results/dart_linfs_pc0_ctrl_1/1/')\n",
    "\n",
    "input_names= list()\n",
    "# input_names.append('TKE+IDEMIX, jayne')\n",
    "# input_names.append('TKE+IDEMIX, nycander')\n",
    "# input_names.append('TKE+IDEMIX, stormtide')\n",
    "input_names.append('TKE')\n",
    "\n",
    "vname     = 'temp'\n",
    "# year      = [1958, 2019]\n",
    "year      = [1958, 1961]\n",
    "mon, day, record, box, depth = None, None, None, None, None\n",
    "\n",
    "#_____________________________________________________________________________________\n",
    "# do anomaly plots in case ref_path is not None\n",
    "ref_path  = None #'/home/ollie/pscholz/results/trr181_tke_ctrl_ck0.1_v2/' # None #\n",
    "ref_name  = None #'TKE, ck=0.1' # None\n",
    "ref_year  = None #[1958, 2019]\n",
    "ref_mon, ref_day, ref_record = None, None, None\n",
    "ref_cstr, ref_cnum = 'wbgyr', 20\n",
    "ref_cref, ref_crange, ref_cmin, ref_cmax, ref_cfac, ref_climit = None, None, None, None, None, None\n",
    "ref_chist, ref_ctresh = True, 0.995\n",
    "ref_rescale = None\n",
    "\n",
    "#_____________________________________________________________________________________\n",
    "box_region = list()\n",
    "box_region.append('global')\n",
    "# box_region.append('ocean_basins/Arctic_Basin.shp')\n",
    "# box_region.append('ocean_basins/Eurasian_Basin.shp')\n",
    "# box_region.append('mpas_region/Canada_Basin.shp')\n",
    "# box_region.append('mpas_region/North_Atlantic_Ocean.shp')\n",
    "# box_region.append('mpas_region/Greenland_Sea.shp')\n",
    "# box_region.append('mpas_region/Irminger_Sea.shp')\n",
    "# box_region.append('mpas_region/Norwegian_Sea.shp')\n",
    "# box_region.append('mpas_region/Labrador_Sea.shp')\n",
    "# box_region.append('mpas_region/North_Pacific_Ocean.shp')\n",
    "# box_region.append('mpas_region/South_Pacific_Ocean.shp')\n",
    "# box_region.append('mpas_region/Southern_Ocean.shp')\n",
    "# box_region.append('mpas_region/Western_Weddell_Sea.shp')\n",
    "\n",
    "#_____________________________________________________________________________________\n",
    "cstr      = 'blue2red'\n",
    "cnum      = 20\n",
    "cref      = None\n",
    "crange, cmin, cmax, cfac, climit = None, None, None, None, None\n",
    "chist, ctresh = True, 0.995\n",
    "\n",
    "#_____________________________________________________________________________________\n",
    "ncol      = 2        # number of pannel columns in figure\n",
    "which_dpi = 300\n",
    "do_rescale= None\n",
    "do_reffig = True\n",
    "figfac    = [8, 3.5] #ä[7, 3.5]"
   ]
  },
  {
   "cell_type": "code",
   "execution_count": 4,
   "metadata": {},
   "outputs": [
    {
     "name": "stdout",
     "output_type": "stream",
     "text": [
      " > found *.pckl file: /albedo/work/user/pscholz/mesh_fesom2.0/dart_test\n",
      " > load  *.pckl file: tripyview_fesom2_dart_test_focus0.pckl\n",
      "___FESOM2 MESH INFO________________________\n",
      " > path            = /albedo/work/user/pscholz/mesh_fesom2.0/dart_test\n",
      " > id              = dart_test\n",
      " > do rot          = None\n",
      " > [al,be,ga]      = 50, 15, -90\n",
      " > do augmpbnd     = True\n",
      " > do cavity       = False\n",
      " > do lsmask       = True\n",
      " > do earea,eresol = True, False\n",
      " > do narea,nresol = True, False\n",
      "___________________________________________\n",
      " > #node           = 3160340\n",
      " > #elem           = 6262485\n",
      " > #lvls           = 70\n",
      "___________________________________________\n",
      "global\n"
     ]
    }
   ],
   "source": [
    "#___LOAD FESOM2 MESH___________________________________________________________________________________\n",
    "mesh=tpv.load_mesh_fesom2(mesh_path, do_rot='None', focus=0, do_info=True, do_pickle=True)\n",
    "\n",
    "#______________________________________________________________________________________________________\n",
    "if (which_cycl is not None) and (which_cycl != \"None\"): \n",
    "    for ii,ipath in enumerate(input_paths):\n",
    "        input_paths[ii] = os.path.join(ipath,'{:d}/'.format(which_cycl))\n",
    "        print(ii, input_paths[ii])\n",
    "    \n",
    "    if (ref_path is not None) and (ref_path != \"None\"): \n",
    "        ref_path = os.path.join(ref_path,'{:d}/'.format(which_cycl))\n",
    "        print('R', ref_path)\n",
    "        \n",
    "#______________________________________________________________________________________________________        \n",
    "cinfo=tpv.set_cinfo(cstr, cnum, crange, cmin, cmax, cref, cfac, climit, chist, ctresh)\n",
    "ref_cinfo=None\n",
    "if (ref_path is not None) and (ref_path != \"None\"): \n",
    "    if ref_year   is None: ref_year   = year\n",
    "    if ref_mon    is None: ref_mon    = mon\n",
    "    if ref_record is None: ref_record = record\n",
    "    cinfo['cref']=0.0 \n",
    "    ref_cinfo=tpv.set_cinfo(ref_cstr, ref_cnum, ref_crange, ref_cmin, ref_cmax, ref_cref, ref_cfac, ref_climit, ref_chist, ref_ctresh)\n",
    "else:\n",
    "    do_reffig=False\n",
    "    \n",
    "#______________________________________________________________________________________________________    \n",
    "# concatenate list = list1+list2\n",
    "if (ref_path != None and ref_path != 'None'): \n",
    "    if isinstance(ref_path, list): \n",
    "        input_paths, input_names = input_paths + ref_path, input_names + ref_name \n",
    "    else:    \n",
    "        input_paths, input_names = input_paths + list([ref_path]), input_names + list([ref_name])\n",
    "\n",
    "#______________________________________________________________________________________________________\n",
    "# define index regions --> reading shape files\n",
    "box = list()\n",
    "shp_path = os.path.join(tpv.__path__[0],'shapefiles/')\n",
    "for region in box_region:\n",
    "    if region == 'global' or isinstance(region,list): \n",
    "        print('global')\n",
    "        box.append(region)\n",
    "    else: \n",
    "        print(tpv.__path__[0],region)\n",
    "        box.append(shp.Reader(os.path.join(shp_path,region)))    "
   ]
  },
  {
   "cell_type": "code",
   "execution_count": 5,
   "metadata": {},
   "outputs": [
    {
     "name": "stdout",
     "output_type": "stream",
     "text": [
      "0 /albedo/work/user/pscholz/results/dart_linfs_pc0_ctrl_1/1/ TKE\n",
      " --> elasped time to load data: 0.04 min.\n",
      " --> data uses 39.84 Gb:\n",
      " --> elasped time to comp. index: 0.13 min.\n",
      " --> data_hovm[global] uses 0.01 Mb:\n"
     ]
    }
   ],
   "source": [
    "list_hovm  = list()\n",
    "#___LOAD FESOM2 DATA___________________________________________________________________________________\n",
    "for ii, (datapath, descript) in enumerate(zip(input_paths, input_names)):\n",
    "    print(ii, datapath, descript)\n",
    "    ts = clock.time()\n",
    "    #__________________________________________________________________________________________________\n",
    "    yeari, moni = year, mon\n",
    "    if (ii==0) and (ref_path != None and ref_path != 'None'): yeari, moni = ref_year, ref_mon\n",
    "        \n",
    "    #__________________________________________________________________________________________________\n",
    "    # load fesom2 data\n",
    "    if not vname=='Kv*N2':\n",
    "        data  = tpv.load_data_fesom2(mesh, datapath, vname=vname, year=yeari, mon=moni,  descript=descript, \n",
    "                                    do_tarithm='None', do_zarithm='None', do_info=False, do_load=False, do_persist=True )\n",
    "        \n",
    "    else:\n",
    "        data  = tpv.load_data_fesom2(mesh, datapath, vname='Kv', year=yeari, mon=moni, descript=descript, \n",
    "                                     do_tarithm='None', do_zarithm='None', do_info=False, do_load=False, do_persist=True)\n",
    "        data2 = tpv.load_data_fesom2(mesh, datapath, vname='N2', year=yeari, mon=moni, descript=descript, \n",
    "                                     do_tarithm='None', do_zarithm='None', do_info=False, do_load=False, do_persist=True)\n",
    "        data['Kv'].data = data['Kv'].data * data2['N2'].data\n",
    "        data  = data.rename(dict({'Kv':'Kv*N2'}))\n",
    "        data['Kv*N2'].attrs['units'], data['Kv*N2'].attrs['description'], data['Kv*N2'].attrs['long_name'] = 'm^2/s^3', 'Kv * N^2', 'Kv * N^2'\n",
    "        del(data2)\n",
    "    print(' --> elasped time to load data: {:3.2f} min.'.format( (clock.time()-ts)/60  ))        \n",
    "    print(' --> data uses {:3.2f} Gb:'.format(data.nbytes/(1024**3)))\n",
    "\n",
    "    #__________________________________________________________________________________________________    \n",
    "    # check if data where loaded\n",
    "    if data is None: raise ValueError(f'data == None, data could not be readed, your path:{datapath} might be wrong!!!')\n",
    "    \n",
    "    #_________________________________________________________________________________________________\n",
    "    # create hovmoeller from reference data, if given \n",
    "    ts = clock.time()\n",
    "    if (ii==0) and (ref_path != None and ref_path != 'None'):\n",
    "        data_hovmref = tpv.load_index_fesom2(mesh, data, box, do_harithm='wmean')\n",
    "        print(' --> elasped time to comp. ref. hovm.: {:3.2f} min.'.format( (clock.time()-ts)/60  ))   \n",
    "        for ii, data_ii in enumerate(data_hovm):\n",
    "            print(' --> data_hovm[{:d}] uses {:3.2f} Mb:'.format(ii, data_hovm[ii].nbytes/(1024**2)))\n",
    "        del(data)\n",
    "        continue\n",
    "\n",
    "    # create hovmoeller from data\n",
    "    data_hovm = tpv.load_index_fesom2(mesh, data, box, do_harithm='wmean')\n",
    "    print(' --> elasped time to comp. data hovm.: {:3.2f} min.'.format( (clock.time()-ts)/60  ))   \n",
    "    for ii, data_ii in enumerate(data_hovm):\n",
    "        print(' --> data_hovm[{:s}] uses {:3.2f} Mb:'.format(data_hovm[ii][list(data_hovm[ii].keys())[0]].attrs['boxname'], data_hovm[ii].nbytes/(1024**2)))\n",
    "    del(data)\n",
    "    \n",
    "    #_________________________________________________________________________________________________\n",
    "    # compute hovmoeller anomaly if reference run is given\n",
    "    if (ref_path != None and ref_path != 'None'):\n",
    "        list_hovm.append(tpv.do_indexanomaly(data_hovm, data_hovmref))\n",
    "        \n",
    "    # compute abosulte hovmoeller diagramm    \n",
    "    else: \n",
    "        list_hovm.append(data_hovm)\n",
    "    del(data_hovm)\n",
    "    \n",
    "if (ref_path != None and ref_path != 'None'): del(data_hovmref)    "
   ]
  },
  {
   "cell_type": "code",
   "execution_count": 6,
   "metadata": {},
   "outputs": [
    {
     "name": "stdout",
     "output_type": "stream",
     "text": [
      "--> histo: cmin, cmax =  0.8793878555297852 18.16649627685547\n",
      "{'cstr': 'blue2red', 'cnum': 20, 'chist': True, 'ctresh': 0.995, 'cmin': 0.88, 'cmax': 18.17, 'cref': 10.0, 'cmap': <matplotlib.colors.ListedColormap object at 0x1552a5e95b80>, 'clevel': array([ 0.5,  1. ,  1.5,  2. ,  2.5,  3. ,  3.5,  4. ,  4.5,  5. ,  5.5,\n",
      "        6. ,  6.5,  7. ,  7.5,  8. ,  8.5,  9. ,  9.5, 10. , 10.5, 11. ,\n",
      "       11.5, 12. , 12.5, 13. , 13.5, 14. , 14.5, 15. , 15.5, 16. , 16.5,\n",
      "       17. , 17.5, 18. , 18.5])}\n"
     ]
    },
    {
     "data": {
      "image/png": "[encoded data removed]",
      "text/plain": [
       "<Figure size 800x350 with 2 Axes>"
      ]
     },
     "metadata": {},
     "output_type": "display_data"
    }
   ],
   "source": [
    "#___PLOT HOVM__________________________________________________________________________________________\n",
    "spath  = save_path\n",
    "sname  = vname\n",
    "ncol   = np.min([ncol,len(list_hovm)])    \n",
    "nrow   = np.ceil(len(list_hovm)/ncol).astype('int')\n",
    "for ii in range(len(box)):\n",
    "    slabel = list_hovm[0][ii][sname].attrs['str_lsave']\n",
    "    sbox   = list_hovm[0][ii][vname].attrs['boxname'].replace(' ','_').lower()\n",
    "    if spath is not None: spath  = '{}/{}_{}_{}_{}.png'.format(spath, which_mode, sname, sbox, slabel) \n",
    "    if save_fname is not None: spath = save_fname\n",
    "    cinfo2 = cinfo.copy()    \n",
    "    fig, ax, cbar = tpv.plot_index_hovm(list_hovm, boxidx=ii, cinfo=cinfo2, figsize=[ncol*figfac[0], nrow*figfac[1]], n_rc=[nrow, ncol], \n",
    "                                        do_rescale=do_rescale, do_reffig=do_reffig, ref_cinfo=ref_cinfo, ref_rescale=ref_rescale, \n",
    "                                        pos_gap=[0.01, 0.01], pos_extend=[0.05, 0.05, 0.85,0.90], \n",
    "                                        do_save = spath, save_dpi=which_dpi )"
   ]
  }
 ],
 "metadata": {
  "celltoolbar": "Tags",
  "kernelspec": {
   "display_name": "Python 3 (ipykernel)",
   "language": "python",
   "name": "python3"
  },
  "language_info": {
   "codemirror_mode": {
    "name": "ipython",
    "version": 3
   },
   "file_extension": ".py",
   "mimetype": "text/x-python",
   "name": "python",
   "nbconvert_exporter": "python",
   "pygments_lexer": "ipython3",
   "version": "3.8.17"
  },
  "latex_envs": {
   "LaTeX_envs_menu_present": true,
   "autoclose": false,
   "autocomplete": true,
   "bibliofile": "biblio.bib",
   "cite_by": "apalike",
   "current_citInitial": 1,
   "eqLabelWithNumbers": true,
   "eqNumInitial": 1,
   "hotkeys": {
    "equation": "Ctrl-E",
    "itemize": "Ctrl-I"
   },
   "labels_anchors": false,
   "latex_user_defs": false,
   "report_style_numbering": false,
   "user_envs_cfg": false
  }
 },
 "nbformat": 4,
 "nbformat_minor": 4
}
