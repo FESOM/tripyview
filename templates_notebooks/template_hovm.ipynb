{
 "cells": [
  {
   "cell_type": "code",
   "execution_count": 1,
   "metadata": {},
   "outputs": [
    {
     "name": "stdout",
     "output_type": "stream",
     "text": [
      "/home/ollie/pscholz/tripyview_github\n"
     ]
    }
   ],
   "source": [
    "# get_ipython().magic('matplotlib notebook')\n",
    "get_ipython().magic('matplotlib inline')\n",
    "get_ipython().magic('load_ext autoreload')\n",
    "get_ipython().magic('autoreload 2')\n",
    "#___________________________________________________________________________________________________________________\n",
    "import os\n",
    "import tripyview as tpv\n",
    "import shapefile as shp\n",
    "import numpy as np"
   ]
  },
  {
   "cell_type": "code",
   "execution_count": 2,
   "metadata": {
    "tags": [
     "parameters"
    ]
   },
   "outputs": [],
   "source": [
    "# Parameters\n",
    "# mesh_path ='/work/ollie/projects/clidyn/FESOM2/meshes/core2/'\n",
    "mesh_path = '/work/ollie/pscholz/mesh_fesom2.0/core2_srt_dep@node/'\n",
    "save_path = None \n",
    "save_fname= None\n",
    "\n",
    "#_____________________________________________________________________________________\n",
    "which_cycl= 5\n",
    "which_mode= 'hovm'\n",
    "\n",
    "#_____________________________________________________________________________________\n",
    "input_paths= list()\n",
    "# input_paths.append('/home/ollie/pscholz/results/trr181_tke+idemix_jayne_bin_ck0.1/')\n",
    "# input_paths.append('/home/ollie/pscholz/results/trr181_tke+idemix_nycander_bin_ck0.1/')\n",
    "# input_paths.append('/home/ollie/pscholz/results/trr181_tke+idemix_stormtide_bin_ck0.1/')\n",
    "input_paths.append('/home/ollie/pscholz/results/trr181_tke_ctrl_ck0.1_v2/')\n",
    "\n",
    "input_names= list()\n",
    "# input_names.append('TKE+IDEMIX, jayne')\n",
    "# input_names.append('TKE+IDEMIX, nycander')\n",
    "# input_names.append('TKE+IDEMIX, stormtide')\n",
    "input_names.append('TKE')\n",
    "\n",
    "vname     = 'temp'\n",
    "year      = [1958, 2019]\n",
    "mon, day, record, box, depth = None, None, None, None, None\n",
    "\n",
    "#_____________________________________________________________________________________\n",
    "# do anomaly plots in case ref_path is not None\n",
    "ref_path  = None #'/home/ollie/pscholz/results/trr181_tke_ctrl_ck0.1/' # None\n",
    "ref_name  = None #'TKE, ck=0.1' # None\n",
    "ref_year  = None # [2009,2019]\n",
    "ref_mon, ref_day, ref_record = None, None, None\n",
    "\n",
    "#_____________________________________________________________________________________\n",
    "box_region = list()\n",
    "box_region.append('global')\n",
    "# box_region.append('ocean_basins/Arctic_Basin.shp')\n",
    "# box_region.append('ocean_basins/Eurasian_Basin.shp')\n",
    "# box_region.append('mpas_region/Canada_Basin.shp')\n",
    "# box_region.append('mpas_region/North_Atlantic_Ocean.shp')\n",
    "# box_region.append('mpas_region/Greenland_Sea.shp')\n",
    "# box_region.append('mpas_region/Irminger_Sea.shp')\n",
    "# box_region.append('mpas_region/Norwegian_Sea.shp')\n",
    "# box_region.append('mpas_region/Labrador_Sea.shp')\n",
    "# box_region.append('mpas_region/North_Pacific_Ocean.shp')\n",
    "# box_region.append('mpas_region/South_Pacific_Ocean.shp')\n",
    "# box_region.append('mpas_region/Southern_Ocean.shp')\n",
    "# box_region.append('mpas_region/Western_Weddell_Sea.shp')\n",
    "\n",
    "#_____________________________________________________________________________________\n",
    "cstr      = 'blue2red'\n",
    "cnum      = 20\n",
    "cref      = None\n",
    "crange, cmin, cmax, cfac, climit = None, None, None, None, None\n",
    "chist, ctresh = True, 0.995\n",
    "\n",
    "#_____________________________________________________________________________________\n",
    "ncolumn   = 3 \n",
    "which_dpi = 300\n",
    "do_rescale= None"
   ]
  },
  {
   "cell_type": "code",
   "execution_count": 3,
   "metadata": {},
   "outputs": [
    {
     "name": "stdout",
     "output_type": "stream",
     "text": [
      " > found *.pckl file: /work/ollie/pscholz/mesh_fesom2.0/core2_srt_dep@node\n",
      " > load  *.pckl file: tripyview_fesom2_core2_srt_dep@node.pckl\n",
      "___FESOM2 MESH INFO________________________\n",
      " > path            = /work/ollie/pscholz/mesh_fesom2.0/core2_srt_dep@node\n",
      " > id              = core2_srt_dep@node\n",
      " > do rot          = None\n",
      " > [al,be,ga]      = 50, 15, -90\n",
      " > do augmpbnd     = True\n",
      " > do cavity       = False\n",
      " > do lsmask       = True\n",
      " > do earea,eresol = True, False\n",
      " > do narea,nresol = True, False\n",
      "___________________________________________\n",
      " > #node           = 126858\n",
      " > #elem           = 244659\n",
      " > #lvls           = 48\n",
      "___________________________________________\n",
      "0 /home/ollie/pscholz/results/trr181_tke_ctrl_ck0.1_v2/5/\n"
     ]
    }
   ],
   "source": [
    "#___LOAD FESOM2 MESH___________________________________________________________________________________\n",
    "mesh=tpv.load_mesh_fesom2(mesh_path, do_rot='None', focus=0, do_info=True, do_pickle=True)\n",
    "\n",
    "#______________________________________________________________________________________________________\n",
    "if which_cycl is not None: \n",
    "    for ii,ipath in enumerate(input_paths):\n",
    "        input_paths[ii] = os.path.join(ipath,'{:d}/'.format(which_cycl))\n",
    "        print(ii, input_paths[ii])\n",
    "    \n",
    "    if ref_path is not None:\n",
    "        ref_path = os.path.join(ref_path,'{:d}/'.format(which_cycl))\n",
    "        print('R', ref_path)\n",
    "        \n",
    "#______________________________________________________________________________________________________        \n",
    "cinfo=dict({'cstr':cstr, 'cnum':cnum}) \n",
    "if crange   is not None: cinfo['crange']=crange\n",
    "if cmin     is not None: cinfo['cmin'  ]=cmin\n",
    "if cmax     is not None: cinfo['cmax'  ]=cmax\n",
    "if cref     is not None: cinfo['cref'  ]=cref\n",
    "if cfac     is not None: cinfo['cfac'  ]=cfac  \n",
    "if climit   is not None: cinfo['climit']=climit  \n",
    "if chist    is not None: cinfo['chist' ]=chist\n",
    "if ctresh   is not None: cinfo['ctresh']=ctresh    \n",
    "if ref_path is not None: cinfo['cref'  ]=0.0    \n",
    "    \n",
    "#______________________________________________________________________________________________________\n",
    "# in case of diff plots\n",
    "if ref_path is not None:\n",
    "    if ref_year   is None: ref_year   = year\n",
    "    if ref_mon    is None: ref_mon    = mon\n",
    "    if ref_record is None: ref_record = record\n",
    "\n",
    "#______________________________________________________________________________________________________\n",
    "# define index regions --> reading shape files\n",
    "box = list()\n",
    "shp_path = os.path.join(tpv.__path__[0],'shapefiles/')\n",
    "for region in box_region:\n",
    "    if region is 'global' or isinstance(region,list): box.append(region)\n",
    "    else: \n",
    "        print(tpv.__path__[0],region)\n",
    "        box.append(shp.Reader(os.path.join(shp_path,region)))    "
   ]
  },
  {
   "cell_type": "code",
   "execution_count": 4,
   "metadata": {},
   "outputs": [
    {
     "name": "stdout",
     "output_type": "stream",
     "text": [
      "/home/ollie/pscholz/results/trr181_tke_ctrl_ck0.1_v2/5/\n"
     ]
    }
   ],
   "source": [
    "#___LOAD FESOM2 REFERENCE DATA________________________________________________________________________\n",
    "if ref_path is not None:\n",
    "    print(ref_path)\n",
    "    if not vname=='Kv*N2':\n",
    "        data_ref = tpv.load_data_fesom2(mesh, ref_path, vname=vname, year=ref_year, mon=ref_mon, \n",
    "                                        descript=ref_name, do_tarithm='None', do_zarithm='None', do_info=False) \n",
    "    else:\n",
    "        data_ref  = tpv.load_data_fesom2(mesh, ref_path, vname='Kv', year=ref_year, mon=ref_mon, \n",
    "                                        descript=ref_name, do_tarithm='None', do_zarithm='None', do_info=False) \n",
    "        data2_ref = tpv.load_data_fesom2(mesh, ref_path, vname='N2', year=ref_year, mon=ref_mon, \n",
    "                                        descript=ref_name, do_tarithm='None', do_zarithm='None', do_info=False) \n",
    "        data_ref['Kv'].data = data_ref['Kv'].data * data2_ref['N2'].data\n",
    "        data_ref  = data.rename(dict({'Kv':'Kv*N2'}))\n",
    "        data_ref['Kv*N2'].attrs['units'], data_ref['Kv*N2'].attrs['description'], data_ref['Kv*N2'].attrs['long_name'] = 'm^2/s^3', 'Kv * N^2', 'Kv * N^2'\n",
    "        del(data2_ref)\n",
    "        \n",
    "    data_ref = tpv.load_index_fesom2(mesh, data_ref, box, do_harithm='wmean')\n",
    "\n",
    "#___LOAD FESOM2 DATA___________________________________________________________________________________\n",
    "list_hovm  = list()\n",
    "for datapath, descript in zip(input_paths, input_names):\n",
    "    print(datapath)\n",
    "    if not vname=='Kv*N2':\n",
    "        data  = tpv.load_data_fesom2(mesh, datapath, vname=vname, year=year, mon=mon, \n",
    "                                     descript=descript, do_tarithm='None', do_zarithm='None', do_info=False)\n",
    "    else:\n",
    "        data  = tpv.load_data_fesom2(mesh, datapath, vname='Kv', year=year, mon=mon, \n",
    "                                     descript=descript, do_tarithm='None', do_zarithm='None', do_info=False)\n",
    "        data2 = tpv.load_data_fesom2(mesh, datapath, vname='N2', year=year, mon=mon, \n",
    "                                     descript=descript, do_tarithm='None', do_zarithm='None', do_info=False)\n",
    "        data['Kv'].data = data['Kv'].data * data2['N2'].data\n",
    "        data  = data.rename(dict({'Kv':'Kv*N2'}))\n",
    "        data['Kv*N2'].attrs['units'], data['Kv*N2'].attrs['description'], data['Kv*N2'].attrs['long_name'] = 'm^2/s^3', 'Kv * N^2', 'Kv * N^2'\n",
    "        del(data2)\n",
    "    \n",
    "    data_hovm = tpv.load_index_fesom2(mesh, data, box, do_harithm='wmean')\n",
    "    \n",
    "    #_________________________________________________________________________________________________\n",
    "    if ref_path is not None: \n",
    "        list_hovm.append(tpv.do_indexanomaly(data_hovm, data_ref))\n",
    "    else: \n",
    "        list_hovm.append(data_hovm)\n",
    "    del(data, data_hovm)\n",
    "    \n",
    "if ref_path is not None: del(data_ref)    "
   ]
  },
  {
   "cell_type": "code",
   "execution_count": 5,
   "metadata": {
    "scrolled": false
   },
   "outputs": [
    {
     "name": "stdout",
     "output_type": "stream",
     "text": [
      "--> histo: cmin, cmax =  -0.009200879866103734 18.17173773555487\n",
      "{'cstr': 'blue2red', 'cnum': 20, 'chist': True, 'ctresh': 0.995, 'cmin': -0.0092, 'cmax': 18.1717, 'cref': 9.0, 'cmap': <matplotlib.colors.ListedColormap object at 0x7f7db0285450>, 'clevel': array([-0.5,  0. ,  0.5,  1. ,  1.5,  2. ,  2.5,  3. ,  3.5,  4. ,  4.5,\n",
      "        5. ,  5.5,  6. ,  6.5,  7. ,  7.5,  8. ,  8.5,  9. ,  9.5, 10. ,\n",
      "       10.5, 11. , 11.5, 12. , 12.5, 13. , 13.5, 14. , 14.5, 15. , 15.5,\n",
      "       16. , 16.5, 17. , 17.5, 18. , 18.5])}\n"
     ]
    },
    {
     "data": {
      "image/png": "[encoded data removed]",
      "text/plain": [
       "<Figure size 504x252 with 2 Axes>"
      ]
     },
     "metadata": {
      "needs_background": "light"
     },
     "output_type": "display_data"
    }
   ],
   "source": [
    "#___PLOT HOVM__________________________________________________________________________________________\n",
    "spath  = save_path\n",
    "sname  = vname\n",
    "slabel = list_hovm[0][0][sname].attrs['str_lsave']\n",
    "sbox   = list_hovm[0][0][vname].attrs['boxname'].replace(' ','_').lower()\n",
    "if spath is not None: spath  = '{}/{}_{}_{}_{}.png'.format(spath, which_mode, sname, sbox, slabel) \n",
    "ncolumn= np.min([ncolumn,len(list_hovm)])    \n",
    "nrow   = np.ceil(len(list_hovm)/ncolumn).astype('int')\n",
    "if save_fname is not None: spath = save_fname\n",
    "fig, ax, cbar = tpv.plot_index_hovm(list_hovm, box, cinfo=cinfo, figsize=[ncolumn*7, nrow*3.5], n_rc=[nrow, ncolumn], \n",
    "                                pos_gap=[0.01, 0.01], pos_extend=[0.05, 0.05, 0.85,0.90], do_rescale=do_rescale, \n",
    "                                do_save = spath, save_dpi=which_dpi )"
   ]
  }
 ],
 "metadata": {
  "celltoolbar": "Tags",
  "kernelspec": {
   "display_name": "Python 3 (ipykernel)",
   "language": "python",
   "name": "python3"
  },
  "language_info": {
   "codemirror_mode": {
    "name": "ipython",
    "version": 3
   },
   "file_extension": ".py",
   "mimetype": "text/x-python",
   "name": "python",
   "nbconvert_exporter": "python",
   "pygments_lexer": "ipython3",
   "version": "3.7.10"
  },
  "latex_envs": {
   "LaTeX_envs_menu_present": true,
   "autoclose": false,
   "autocomplete": true,
   "bibliofile": "biblio.bib",
   "cite_by": "apalike",
   "current_citInitial": 1,
   "eqLabelWithNumbers": true,
   "eqNumInitial": 1,
   "hotkeys": {
    "equation": "Ctrl-E",
    "itemize": "Ctrl-I"
   },
   "labels_anchors": false,
   "latex_user_defs": false,
   "report_style_numbering": false,
   "user_envs_cfg": false
  }
 },
 "nbformat": 4,
 "nbformat_minor": 2
}
