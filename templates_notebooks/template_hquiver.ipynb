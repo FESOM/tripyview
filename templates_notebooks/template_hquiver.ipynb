{
 "cells": [
  {
   "cell_type": "code",
   "execution_count": 1,
   "metadata": {
    "slideshow": {
     "slide_type": ""
    },
    "tags": []
   },
   "outputs": [
    {
     "name": "stdout",
     "output_type": "stream",
     "text": [
      "/albedo/home/pscholz/tripyview\n"
     ]
    }
   ],
   "source": [
    "%matplotlib inline\n",
    "%load_ext autoreload\n",
    "%autoreload 2\n",
    "\n",
    "#___________________________________________________________________________________________________________________\n",
    "import os\n",
    "import tripyview as tpv\n",
    "import numpy     as np\n",
    "import xarray    as xr\n",
    "import time      as clock\n",
    "import warnings\n",
    "xr.set_options(keep_attrs=True)\n",
    "client_runs   = False"
   ]
  },
  {
   "cell_type": "markdown",
   "metadata": {
    "slideshow": {
     "slide_type": ""
    },
    "tags": []
   },
   "source": [
    "### INFO:\n",
    "To compute especially on large unstructured grids #vertices>1M, you need to run this notebook in parallel (do_parallel=True) on several workers (parallel_nprc...is the number of dask worker that can be allocated, parallel_tmem...is the maximum available RAM that will be distributed between the dask workers). Therefor allocate a full !!! COMPUTE NODE !!! (admins might not be happy if you do this in parallel on a login node) of a HPC of your choice with as much memory (RAM) as you can get to run this notebook!"
   ]
  },
  {
   "cell_type": "code",
   "execution_count": 2,
   "metadata": {
    "slideshow": {
     "slide_type": ""
    },
    "tags": [
     "parameters"
    ]
   },
   "outputs": [],
   "source": [
    "# parameters\n",
    "#___Dask Client Parameters____________________________________________________________\n",
    "do_papermill      = False\n",
    "do_parallel       = False\n",
    "parallel_tnprc    = 128                          # total number of available CPUs\n",
    "parallel_nprc     = 72                           # number of dask workers\n",
    "parallel_nprc_bin = parallel_tnprc-parallel_nprc # number of processor used to parallize the binning loop\n",
    "parallel_tmem     = 200                          # max. available RAM\n",
    "\n",
    "#___Mesh Path & Save Path_____________________________________________________________\n",
    "# mesh_path ='/work/ollie/projects/clidyn/FESOM2/meshes/core2/'\n",
    "mesh_path         = '/albedo/work/user/pscholz/mesh_fesom2.0/core2_srt_dep@node/'\n",
    "save_path         = None #'~/figures/test_papermill/'\n",
    "save_fname        = None # filename from papermill come in through save_fname\n",
    "tripyrun_name     = None # papermill workflow name of notebook \n",
    "tripyrun_analysis = None # papermill diagnostic driver\n",
    "tripyrun_spath_nb = None # papermill path to processed notebooks\n",
    "tripyrun_spath_fig= None # papermill path to processed figures\n",
    "\n",
    "#___Data Path & Input Names___________________________________________________________\n",
    "input_paths   = list()\n",
    "input_paths.append('/albedo/work/projects/p_fesom/pscholz/project_TRR181/trr181_tke+idemix_jayne_bin_ck0.1/5/')\n",
    "input_paths.append('/albedo/work/projects/p_fesom/pscholz/project_TRR181/trr181_tke+idemix_nycander_bin_ck0.1/5/')\n",
    "input_paths.append('/albedo/work/projects/p_fesom/pscholz/project_TRR181/trr181_tke+idemix_stormtide_bin_ck0.1/5/')\n",
    "input_paths.append('/albedo/work/projects/p_fesom/pscholz/project_TRR181/trr181_tke_ctrl_ck0.1/5/')\n",
    "\n",
    "input_names   = list()\n",
    "input_names.append('TKE+IDEMIX, jayne')\n",
    "input_names.append('TKE+IDEMIX, nycander')\n",
    "input_names.append('TKE+IDEMIX, stormtide')\n",
    "input_names.append('TKE')\n",
    "\n",
    "# n_cycl: which spinupcycle should be plottet if do_allcycl all spinupcycles from [1...n_cycle] are plottet, if None path is directly used\n",
    "n_cycl    = None\n",
    "do_allcycl= False\n",
    "vname     = 'vec+u+v'\n",
    "year      = [1979, 2019]\n",
    "mon       = None\n",
    "day       = None\n",
    "record    = None \n",
    "box       = None\n",
    "depth     = 100\n",
    "\n",
    "#___Define Reference Data, Year, Mon ...______________________________________________\n",
    "# do anomaly plots in case ref_path is not None\n",
    "ref_path  = None # '/albedo/work/projects/p_fesom/pscholz/project_TRR181/trr181_tke_ctrl_ck0.1/5/'\n",
    "ref_name  = None # 'TKE'\n",
    "ref_year  = None #[1979, 2019]\n",
    "ref_mon   = None\n",
    "ref_day   = None\n",
    "ref_record= None\n",
    "\n",
    "#___Define Climatology________________________________________________________________\n",
    "which_clim= 'phc3'\n",
    "clim_path = '/albedo/work/projects/p_fesom/FROM-OLLIE/FESOM2/hydrography/phc3.0/phc3.0_annual.nc'\n",
    "\n",
    "#___Define Colormap Parameters________________________________________________________\n",
    "# papermill doesnt like multi variable alignment in a single line\n",
    "cstr      = 'wbgyr'\n",
    "cnum      = 15\n",
    "cref      = None\n",
    "crange    = None\n",
    "cmin      = None\n",
    "cmax      = None\n",
    "cfac      = None\n",
    "climit    = None\n",
    "chist     = True\n",
    "ctresh    = 0.995\n",
    "\n",
    "ref_cstr  = 'wbgyr'\n",
    "ref_cnum  = 15\n",
    "ref_cref  = None\n",
    "ref_crange= None\n",
    "ref_cmin  = None\n",
    "ref_cmax  = None\n",
    "ref_cfac  = None\n",
    "ref_climit= None\n",
    "ref_chist = True\n",
    "ref_ctresh= 0.995\n",
    "\n",
    "#___Define Plot Parameters____________________________________________________________\n",
    "ncol              = 2      # number of pannel columns in figure\n",
    "nrow              = None\n",
    "proj              = 'nears' \n",
    "box               = [-45, 60, 50]\n",
    "do_plt            = 'tcf'  # plot pcolor (tpc) or contourf (tcf)\n",
    "plt_contb         = True   # background contour line (thin)\n",
    "plt_contf         = False  # contour line of main colorbar steps \n",
    "plt_contr         = False  # contour line of reference value \n",
    "plt_contl         = False  # label contourline of main colorbar steps \n",
    "do_rescale        = None   # rescale data: None, 'log10', 'slog10', np.array(...)\n",
    "do_lsm            ='fesom' # 'fesom', 'bluemarble', 'etopo', 'stock'\n",
    "do_mesh           = False, \n",
    "mesh_opt          = dict({'color':'k', 'linewidth':0.10})\n",
    "do_enum           = False  # do enumeration of panels\n",
    "do_reffig         = True   # plot reference fig when doing anomalies \n",
    "do_clim           = False   # plot climatolgy values when doing absoluts\n",
    "ax_title          = None\n",
    "cb_label          = None\n",
    "save_dpi          = 300\n",
    "save_fmt          = ['png']\n",
    "\n",
    "quiv_scalfac      = 1.5     # larger number means larger arrows\n",
    "quiv_arrwidth     = 0.2\n",
    "quiv_dens         = 0.4   # larger number means less arrows\n",
    "quiv_smax         = 10"
   ]
  },
  {
   "cell_type": "code",
   "execution_count": 3,
   "metadata": {
    "slideshow": {
     "slide_type": ""
    },
    "tags": []
   },
   "outputs": [],
   "source": [
    "# start parallel dask client\n",
    "if do_parallel and not client_runs:\n",
    "    from dask.distributed import Client\n",
    "    ##import dask\n",
    "    ## dask.config.config.get('distributed').get('dashboard').update({'link':'{JUPYTERHUB_SERVICE_PREFIX}/proxy/{port}/status'})\n",
    "    print(' --> memory_limit: {:3.3f} GB'.format(parallel_tmem/(parallel_nprc)))\n",
    "    client = Client(n_workers=parallel_nprc, threads_per_worker=1, memory_limit='{:3.3f} GB'.format(parallel_tmem/parallel_nprc))\n",
    "    client_runs = True\n",
    "    client"
   ]
  },
  {
   "cell_type": "code",
   "execution_count": 4,
   "metadata": {
    "slideshow": {
     "slide_type": ""
    },
    "tags": []
   },
   "outputs": [
    {
     "name": "stdout",
     "output_type": "stream",
     "text": [
      " > found *.pckl file: /albedo/work/user/pscholz/mesh_fesom2.0/core2_srt_dep@node\n",
      " > load  *.pckl file: tripyview_fesom2_core2_srt_dep@node_focus0.pckl\n",
      "___FESOM2 MESH INFO________________________\n",
      " > path            = /albedo/work/user/pscholz/mesh_fesom2.0/core2_srt_dep@node\n",
      " > id              = core2_srt_dep@node\n",
      " > do rot          = None\n",
      " > [al,be,ga]      = 50, 15, -90\n",
      " > do augmpbnd     = True\n",
      " > do cavity       = False\n",
      " > do lsmask       = True\n",
      " > do earea,eresol = True, False\n",
      " > do narea,nresol = True, False\n",
      "___________________________________________\n",
      " > #node           = 126858\n",
      " > #elem           = 244659\n",
      " > #lvls           = 48\n",
      "___________________________________________\n"
     ]
    }
   ],
   "source": [
    "#___LOAD FESOM2 MESH___________________________________________________________________________________\n",
    "mesh=tpv.load_mesh_fesom2(mesh_path, do_rot='None', focus=0, do_info=True, do_pickle=True)\n",
    "\n",
    "#______________________________________________________________________________________________________\n",
    "if (n_cycl is not None): \n",
    "    cycl_s=1 if do_allcycl else n_cycl\n",
    "    #__________________________________________________________________________________________________\n",
    "    aux_path, aux_name = list(), list()\n",
    "    input_paths_old, input_names_old = input_paths, input_names\n",
    "    for ii, (ipath,iname) in enumerate(zip(input_paths,input_names)):\n",
    "        for ii_cycl in range(cycl_s, n_cycl+1):\n",
    "            aux_path.append(os.path.join(ipath,'{:d}/'.format(ii_cycl)))\n",
    "            if not do_allcycl: aux_name.append('{}'.format(iname))\n",
    "            else             : aux_name.append('{:d}) {}'.format(ii_cycl, iname))\n",
    "            print(ii, aux_path[-1],aux_name[-1])\n",
    "    input_paths, input_names = aux_path, aux_name\n",
    "    \n",
    "    #__________________________________________________________________________________________________\n",
    "    if (ref_path is not None): \n",
    "        aux_path, aux_name = list(), list()\n",
    "        ref_path_old, ref_name_old = ref_path, ref_name\n",
    "        for ii_cycl in range(cycl_s, n_cycl+1):\n",
    "            aux_path.append(os.path.join(ref_path,'{:d}/'.format(ii_cycl)))\n",
    "            if not do_allcycl: aux_name.append('{}'.format(ref_name))\n",
    "            else             : aux_name.append('{:d}) {}'.format(ii_cycl, ref_name))\n",
    "            print('R', ref_path[-1])        \n",
    "        ref_path, ref_name = aux_path, aux_name\n",
    "    del(aux_path, aux_name)  \n",
    "\n",
    "#______________________________________________________________________________________________________\n",
    "cinfo=tpv.set_cinfo(cstr, cnum, crange, cmin, cmax, cref, cfac, climit, chist, ctresh)\n",
    "ref_cinfo=None\n",
    "if (ref_path != None): \n",
    "    if ref_year   is None: ref_year   = year\n",
    "    if ref_mon    is None: ref_mon    = mon\n",
    "    if ref_record is None: ref_record = record\n",
    "    cinfo['cref']=0.0 \n",
    "    ref_cinfo=tpv.set_cinfo(ref_cstr, ref_cnum, ref_crange, ref_cmin, ref_cmax, ref_cref, ref_cfac, ref_climit, ref_chist, ref_ctresh)\n",
    "    \n",
    "#______________________________________________________________________________________________________    \n",
    "# concatenate list = list1+list2\n",
    "if (ref_path != None): \n",
    "    if isinstance(ref_path, list): \n",
    "        input_paths, input_names = ref_path + input_paths        , ref_name + input_names\n",
    "    else:    \n",
    "        input_paths, input_names = list([ref_path]) + input_paths, list([ref_name]) + input_names"
   ]
  },
  {
   "cell_type": "code",
   "execution_count": null,
   "metadata": {
    "scrolled": false
   },
   "outputs": [
    {
     "name": "stdout",
     "output_type": "stream",
     "text": [
      "0 /albedo/work/projects/p_fesom/pscholz/project_TRR181/trr181_tke+idemix_jayne_bin_ck0.1/5/ TKE+IDEMIX, jayne\n",
      " > do elem vector rotation\n",
      "     > 1D\n"
     ]
    }
   ],
   "source": [
    "data_list = list()\n",
    "#___LOAD FESOM2 DATA___________________________________________________________________________________\n",
    "for ii, (datapath, descript) in enumerate(zip(input_paths, input_names)):\n",
    "    print(ii, datapath, descript)\n",
    "    ts = clock.time()\n",
    "    #__________________________________________________________________________________________________\n",
    "    yeari, moni, dayi, recordi = year, mon, day, record\n",
    "    if (ii==0) and (ref_path != None): yeari, moni, dayi, recordi = ref_year, ref_mon, ref_day, ref_record\n",
    "    \n",
    "    #__________________________________________________________________________________________________\n",
    "    data = tpv.load_data_fesom2(mesh, datapath, vname=vname, year=yeari, mon=moni, day=dayi, record=recordi, \n",
    "                                depth=depth, descript=descript, do_info=False)\n",
    "            \n",
    "    print(' --> elasped time to load data: {:3.2f} min.'.format( (clock.time()-ts)/60  ))        \n",
    "    print(' --> data uses {:3.2f} Gb:'.format(data.nbytes/(1024**3)))\n",
    "    print('')\n",
    "        \n",
    "    #__________________________________________________________________________________________________    \n",
    "    # check if data where loaded\n",
    "    if data is None: raise ValueError(f'data == None, data could not be readed, your path:{datapath} might be wrong!!!')\n",
    "    \n",
    "    #__________________________________________________________________________________________________    \n",
    "    # create reference data if given \n",
    "    if (ii==0) and (ref_path != None):\n",
    "        data_ref = data\n",
    "        if do_reffig: data_list.append(data_ref) \n",
    "        continue\n",
    "        \n",
    "    #__________________________________________________________________________________________________    \n",
    "    # compute anomaly \n",
    "    if (ref_path != None):\n",
    "        data_list.append(tpv.do_anomaly(data, data_ref))  \n",
    "    # compute absolute    \n",
    "    else:\n",
    "        data_list.append(data)  \n",
    "    del(data)\n",
    "if (ref_path != None): del(data_ref)"
   ]
  },
  {
   "cell_type": "code",
   "execution_count": null,
   "metadata": {
    "scrolled": false,
    "slideshow": {
     "slide_type": ""
    },
    "tags": []
   },
   "outputs": [],
   "source": [
    "#___PLOT FESOM2 DATA___________________________________________________________________________________\n",
    "ndat   = len(data_list)\n",
    "if   ncol != None: \n",
    "    ncol0  = np.min([ncol,ndat])    \n",
    "    nrow0  = np.ceil(ndat/ncol0).astype('int')\n",
    "elif nrow != None: \n",
    "    nrow0  = np.min([nrow,ndat])    \n",
    "    ncol0  = np.ceil(ndat/nrow0).astype('int')\n",
    "    \n",
    "idx=1 if do_clim else 0       \n",
    "svname = list(data_list[idx].data_vars)[0]\n",
    "slabel = data_list[idx][svname].attrs['str_lsave']\n",
    "\n",
    "#______________________________________________________________________________________________________\n",
    "# do save filename path\n",
    "spath  = save_path\n",
    "sfpath = None\n",
    "if spath!=None: \n",
    "    sfpath=list()\n",
    "    for sfmt in save_fmt: sfpath.append( os.path.join(spath,'{:s}_{:s}_{:s}.{:s}'.format(svname, proj, slabel, sfmt)) )\n",
    "if save_fname!=None: sfpath = [save_fname] # --> needed for diagrun papermille functionality\n",
    "\n",
    "#______________________________________________________________________________________________________\n",
    "# do colorbar either single cbar or ref_cbar + anom_cbar\n",
    "if (ref_path != None) and do_reffig: cb_plt, cb_plt_single, cinfo0 = [1]+[2]*(nrow0*ncol0-1), False, [ref_cinfo.copy(), cinfo.copy()]\n",
    "else: cb_plt, cb_plt_single, cinfo0 = True, True, cinfo.copy() \n",
    "\n",
    "cinfo0.update({'cmin':0})\n",
    "hfig, hax, hcb = tpv.plot_hquiver(mesh, data_list, cinfo=cinfo0, box=box, nrow=nrow0, ncol=ncol0, proj=proj, do_rescale=do_rescale, \n",
    "                                ax_opt=dict({'fig_sizefac':4.0, 'cb_plt':cb_plt, 'cb_plt_single':cb_plt_single, 'cb_pos':'vertical', 'cb_h':'auto'}),\n",
    "                                quiv_scalfac=quiv_scalfac, quiv_arrwidth=quiv_arrwidth, quiv_dens=quiv_dens, quiv_smax=quiv_smax, \n",
    "                                cbl_opt=dict(), cb_label=cb_label, cbtl_opt=dict(),\n",
    "                                do_save=sfpath, save_dpi=save_dpi)"
   ]
  }
 ],
 "metadata": {
  "celltoolbar": "Tags",
  "kernelspec": {
   "display_name": "Python 3 (ipykernel)",
   "language": "python",
   "name": "python3"
  },
  "language_info": {
   "codemirror_mode": {
    "name": "ipython",
    "version": 3
   },
   "file_extension": ".py",
   "mimetype": "text/x-python",
   "name": "python",
   "nbconvert_exporter": "python",
   "pygments_lexer": "ipython3",
   "version": "3.8.19"
  },
  "latex_envs": {
   "LaTeX_envs_menu_present": true,
   "autoclose": false,
   "autocomplete": true,
   "bibliofile": "biblio.bib",
   "cite_by": "apalike",
   "current_citInitial": 1,
   "eqLabelWithNumbers": true,
   "eqNumInitial": 1,
   "hotkeys": {
    "equation": "Ctrl-E",
    "itemize": "Ctrl-I"
   },
   "labels_anchors": false,
   "latex_user_defs": false,
   "report_style_numbering": false,
   "user_envs_cfg": false
  }
 },
 "nbformat": 4,
 "nbformat_minor": 4
}
