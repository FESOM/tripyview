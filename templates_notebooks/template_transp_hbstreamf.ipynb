{
 "cells": [
  {
   "cell_type": "code",
   "execution_count": 22,
   "metadata": {},
   "outputs": [
    {
     "name": "stdout",
     "output_type": "stream",
     "text": [
      "The autoreload extension is already loaded. To reload it, use:\n",
      "  %reload_ext autoreload\n"
     ]
    },
    {
     "data": {
      "text/plain": [
       "<xarray.core.options.set_options at 0x7f27b3a43f90>"
      ]
     },
     "execution_count": 22,
     "metadata": {},
     "output_type": "execute_result"
    }
   ],
   "source": [
    "# get_ipython().magic('matplotlib notebook')\n",
    "get_ipython().magic('matplotlib inline')\n",
    "get_ipython().magic('load_ext autoreload')\n",
    "get_ipython().magic('autoreload 2')\n",
    "#___________________________________________________________________________________________________________________\n",
    "import os\n",
    "import tripyview as tpv\n",
    "import shapefile as shp\n",
    "import numpy as np\n",
    "import xarray as xr\n",
    "import matplotlib.pyplot as plt\n",
    "xr.set_options(keep_attrs=True)"
   ]
  },
  {
   "cell_type": "code",
   "execution_count": 23,
   "metadata": {
    "tags": [
     "parameters"
    ]
   },
   "outputs": [],
   "source": [
    "# Parameters\n",
    "# mesh_path ='/work/ollie/projects/clidyn/FESOM2/meshes/core2/'\n",
    "mesh_path = '/work/ollie/pscholz/mesh_fesom2.0/core2_srt_dep@node/'\n",
    "save_path = None #'~/figures/test_papermill/'\n",
    "save_fname= None\n",
    "\n",
    "#_____________________________________________________________________________________\n",
    "which_cycl= 5\n",
    "which_mode= 'hbarstreamf' # global heat flux\n",
    "\n",
    "#_____________________________________________________________________________________\n",
    "input_paths= list()\n",
    "# input_paths.append('/home/ollie/pscholz/results/trr181_tke+idemix_jayne_bin_ck0.1/')\n",
    "# input_paths.append('/home/ollie/pscholz/results/trr181_tke+idemix_nycander_bin_ck0.1/')\n",
    "# input_paths.append('/home/ollie/pscholz/results/trr181_tke+idemix_stormtide_bin_ck0.1/')\n",
    "input_paths.append('/home/ollie/pscholz/results/trr181_tke_ctrl_ck0.1_v2/')\n",
    "\n",
    "input_names= list()\n",
    "# input_names.append('TKE+IDEMIX, jayne')\n",
    "# input_names.append('TKE+IDEMIX, nycander')\n",
    "# input_names.append('TKE+IDEMIX, stormtide')\n",
    "input_names.append('TKE')\n",
    "\n",
    "vname     = 'hbarstreamf'\n",
    "year      = [1979,2019]\n",
    "mon, day, record, box, depth = None, None, None, None, None\n",
    "\n",
    "#_____________________________________________________________________________________\n",
    "# do anomaly plots in case ref_path is not None\n",
    "ref_path  = None #'/home/ollie/pscholz/results/trr181_tke_ctrl_ck0.1/' # None\n",
    "ref_name  = None # 'TKE, ck=0.1' # None\n",
    "ref_year  = None # [2009,2019]\n",
    "ref_mon, ref_day, ref_record = None, None, None\n",
    "\n",
    "#_____________________________________________________________________________________\n",
    "cstr      = 'blue2red'\n",
    "cnum      = 25\n",
    "cref      = 0\n",
    "crange, cmin, cmax, cfac, climit = None, None, None, None, None\n",
    "chist, ctresh = True, 0.995\n",
    "\n",
    "#_____________________________________________________________________________________\n",
    "which_dpi = 300\n",
    "do_rescale= False\n",
    "proj      = 'pc'\n",
    "ncolumn   = 3\n",
    "do_allcycl= False\n",
    "cmax      = 150"
   ]
  },
  {
   "cell_type": "code",
   "execution_count": 24,
   "metadata": {
    "scrolled": false
   },
   "outputs": [
    {
     "name": "stdout",
     "output_type": "stream",
     "text": [
      " > found *.pckl file: /work/ollie/pscholz/mesh_fesom2.0/core2_srt_dep@node\n",
      " > load  *.pckl file: tripyview_fesom2_core2_srt_dep@node.pckl\n",
      " > comp. e_resol from mean\n",
      "___FESOM2 MESH INFO________________________\n",
      " > path            = /work/ollie/pscholz/mesh_fesom2.0/core2_srt_dep@node\n",
      " > id              = core2_srt_dep@node\n",
      " > do rot          = None\n",
      " > [al,be,ga]      = 50, 15, -90\n",
      " > do augmpbnd     = True\n",
      " > do cavity       = False\n",
      " > do lsmask       = True\n",
      " > do earea,eresol = True, True\n",
      " > do narea,nresol = True, True\n",
      "___________________________________________\n",
      " > #node           = 126858\n",
      " > #elem           = 244659\n",
      " > #lvls           = 48\n",
      "___________________________________________\n",
      "0 /home/ollie/pscholz/results/trr181_tke_ctrl_ck0.1_v2/5/ TKE\n"
     ]
    }
   ],
   "source": [
    "#___LOAD FESOM2 MESH___________________________________________________________________________________\n",
    "mesh=tpv.load_mesh_fesom2(mesh_path, do_rot='None', focus=0, do_info=True, do_pickle=True,\n",
    "                      do_earea=True, do_narea=True, do_eresol=[True,'mean'], do_nresol=[True,'eresol'])\n",
    "\n",
    "#______________________________________________________________________________________________________\n",
    "if which_cycl is not None: \n",
    "    #__________________________________________________________________________________________________\n",
    "    if do_allcycl: cycl_s=1\n",
    "    else         : cycl_s=which_cycl    \n",
    "    \n",
    "    #__________________________________________________________________________________________________\n",
    "    aux_path, aux_name = list(), list()\n",
    "    input_paths_old, input_names_old = input_paths, input_names\n",
    "    for ii, (ipath,iname) in enumerate(zip(input_paths,input_names)):\n",
    "        for ii_cycl in range(cycl_s, which_cycl+1):\n",
    "            # input_paths[ii] = os.path.join(ipath,'{:d}/'.format(which_cycl))\n",
    "            aux_path.append(os.path.join(ipath,'{:d}/'.format(ii_cycl)))\n",
    "            if not do_allcycl: aux_name.append('{}'.format(iname))\n",
    "            else             : aux_name.append('{:d}) {}'.format(ii_cycl, iname))\n",
    "            print(ii, aux_path[-1],aux_name[-1])\n",
    "    input_paths, input_names = aux_path, aux_name\n",
    "    \n",
    "    #__________________________________________________________________________________________________\n",
    "    if ref_path is not None:\n",
    "        aux_path, aux_name = list(), list()\n",
    "        ref_path_old, ref_name_old = ref_path, ref_name\n",
    "        for ii_cycl in range(cycl_s, which_cycl+1):\n",
    "            #ref_path = os.path.join(ref_path,'{:d}/'.format(which_cycl))\n",
    "            aux_path.append(os.path.join(ref_path,'{:d}/'.format(ii_cycl)))\n",
    "            if not do_allcycl: aux_name.append('{}'.format(ref_name))\n",
    "            else             : aux_name.append('{:d}) {}'.format(ii_cycl, ref_name))\n",
    "            print('R', ref_path[-1])        \n",
    "        ref_path, ref_name = aux_path, aux_name\n",
    "    del(aux_path, aux_name)    \n",
    "        \n",
    "#______________________________________________________________________________________________________        \n",
    "cinfo=dict({'cstr':cstr, 'cnum':cnum}) \n",
    "if crange   is not None: cinfo['crange']=crange\n",
    "if cmin     is not None: cinfo['cmin'  ]=cmin\n",
    "if cmax     is not None: cinfo['cmax'  ]=cmax\n",
    "if cref     is not None: cinfo['cref'  ]=cref\n",
    "if cfac     is not None: cinfo['cfac'  ]=cfac  \n",
    "if climit   is not None: cinfo['climit']=climit  \n",
    "if chist    is not None: cinfo['chist' ]=chist\n",
    "if ctresh   is not None: cinfo['ctresh']=ctresh    \n",
    "if ref_path is not None: cinfo['cref'  ]=0.0    \n",
    "    \n",
    "#______________________________________________________________________________________________________\n",
    "# in case of diff plots\n",
    "if ref_path is not None:\n",
    "    if ref_year   is None: ref_year   = year\n",
    "    if ref_mon    is None: ref_mon    = mon\n",
    "    if ref_record is None: ref_record = record    \n"
   ]
  },
  {
   "cell_type": "code",
   "execution_count": 25,
   "metadata": {},
   "outputs": [],
   "source": [
    "datapath = input_paths[0]\n",
    "#___________________________________________________________________________\n",
    "# load information about edges \n",
    "fname = 'fesom.mesh.diag.nc'\n",
    "# check for directory with diagnostic file\n",
    "if   os.path.isfile( os.path.join(datapath, fname) ): \n",
    "    dname = datapath\n",
    "elif os.path.isfile( os.path.join( os.path.join(os.path.dirname(os.path.normpath(datapath)),'1/'), fname) ): \n",
    "    dname = os.path.join(os.path.dirname(os.path.normpath(datapath)),'1/')\n",
    "elif os.path.isfile( os.path.join(mesh.path,fname) ): \n",
    "    dname = mesh.path\n",
    "else:\n",
    "    raise ValueError('could not find directory with...mesh.diag.nc file')    \n",
    "\n",
    "# load diag file\n",
    "meshdiag = xr.open_dataset(os.path.join(dname,fname))\n",
    "# node indices of edge points [2 x n2ded]\n",
    "edge     =meshdiag['edges'].values-1\n",
    "# element indices of triangles that are left and right of edg: [2 x n2ded]\n",
    "edge_tri =meshdiag['edge_tri'].values-1\n",
    "# dx & dy of edge midpoints towards element centroid of left and right triangle\n",
    "edge_dxdy=meshdiag['edge_cross_dxdy'].values[:]\n",
    "\n",
    "# dx & dy of left triangle\n",
    "edge_dxdy_l=np.array([ edge_dxdy[1,:], -edge_dxdy[0,:]])\n",
    "# dx & dy of right triangle\n",
    "edge_dxdy_r=np.array([-edge_dxdy[3,:],  edge_dxdy[2,:]])\n",
    "edge_dxdy_r[:, edge_tri[1,:]<0]=0. # if boundarie edge --> right triangle doesnot exist"
   ]
  },
  {
   "cell_type": "code",
   "execution_count": null,
   "metadata": {
    "scrolled": false
   },
   "outputs": [
    {
     "name": "stdout",
     "output_type": "stream",
     "text": [
      "/home/ollie/pscholz/results/trr181_tke_ctrl_ck0.1_v2/5/ TKE\n"
     ]
    }
   ],
   "source": [
    "#______________________________________________________________________________________________________\n",
    "# create zonal and meridional bins\n",
    "dlon, dlat,  = 1.0, 1.0\n",
    "lon  = np.arange(-180, 180+dlon, dlon)\n",
    "lat  = np.arange(-90 ,  90+dlat, dlat)\n",
    "\n",
    "#___LOAD FESOM2 DATA___________________________________________________________________________________\n",
    "hbstreamf_list = list()\n",
    "for datapath, descript in zip(input_paths, input_names): \n",
    "    print(datapath, descript)\n",
    "    #__________________________________________________________________________________________________\n",
    "    # load u,v data\n",
    "    data = tpv.load_data_fesom2(mesh, datapath, vname='vec+u+v', year=year, descript=descript, \n",
    "                                    do_info=False, do_vecrot=False, do_zarithm='None', do_ie2n=False)\n",
    "    \n",
    "    #__________________________________________________________________________________________________\n",
    "    # compute  horizontal barotropic streamfunction by binning\n",
    "    hbstreamf_list.append(tpv.calc_hbarstreamf(mesh, data, lon, lat, edge, edge_tri, edge_dxdy_l, edge_dxdy_r))\n",
    "    del(data)"
   ]
  },
  {
   "cell_type": "code",
   "execution_count": null,
   "metadata": {
    "scrolled": false
   },
   "outputs": [],
   "source": [
    "# #___PLOT FESOM2 DATA___________________________________________________________________________________\n",
    "spath  = save_path\n",
    "sname  = list(hbstreamf_list[0].keys())[0]\n",
    "slabel = hbstreamf_list[0][sname].attrs['str_lsave']\n",
    "if spath is not None: spath  = os.path.join(spath,'{}_{}_{}.png'.format(which_mode, sname, slabel)) \n",
    "if save_fname is not None: spath = save_fname\n",
    "ncolumn= np.min([ncolumn,len(hbstreamf_list)])    \n",
    "nrow   = np.ceil(len(hbstreamf_list)/ncolumn).astype('int')\n",
    "pos_gap= [0.005, 0.04]\n",
    "if proj in ['nps, sps']:pos_gap = [0.005, 0.035]     \n",
    "print(cinfo)    \n",
    "fig, ax, cbar = tpv.plot_hbstreamf(mesh, hbstreamf_list, input_names, cinfo=cinfo, box=box, n_rc=[nrow, ncolumn], \n",
    "                            figsize=[ncolumn*7, nrow*3.5], proj = proj, \n",
    "                            do_rescale=do_rescale, title='descript', \n",
    "                            pos_gap=pos_gap, pos_extend=[0.05, 0.05, 0.85, 0.90], \n",
    "                            do_save=spath, save_dpi=which_dpi)"
   ]
  }
 ],
 "metadata": {
  "celltoolbar": "Tags",
  "kernelspec": {
   "display_name": "Python 3 (ipykernel)",
   "language": "python",
   "name": "python3"
  },
  "language_info": {
   "codemirror_mode": {
    "name": "ipython",
    "version": 3
   },
   "file_extension": ".py",
   "mimetype": "text/x-python",
   "name": "python",
   "nbconvert_exporter": "python",
   "pygments_lexer": "ipython3",
   "version": "3.7.10"
  },
  "latex_envs": {
   "LaTeX_envs_menu_present": true,
   "autoclose": false,
   "autocomplete": true,
   "bibliofile": "biblio.bib",
   "cite_by": "apalike",
   "current_citInitial": 1,
   "eqLabelWithNumbers": true,
   "eqNumInitial": 1,
   "hotkeys": {
    "equation": "Ctrl-E",
    "itemize": "Ctrl-I"
   },
   "labels_anchors": false,
   "latex_user_defs": false,
   "report_style_numbering": false,
   "user_envs_cfg": false
  }
 },
 "nbformat": 4,
 "nbformat_minor": 2
}
