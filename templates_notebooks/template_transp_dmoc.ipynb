{
 "cells": [
  {
   "cell_type": "code",
   "execution_count": 94,
   "metadata": {},
   "outputs": [
    {
     "name": "stdout",
     "output_type": "stream",
     "text": [
      "The autoreload extension is already loaded. To reload it, use:\n",
      "  %reload_ext autoreload\n"
     ]
    }
   ],
   "source": [
    "# get_ipython().magic('matplotlib notebook')\n",
    "get_ipython().magic('matplotlib inline')\n",
    "get_ipython().magic('load_ext autoreload')\n",
    "get_ipython().magic('autoreload 2')\n",
    "#___________________________________________________________________________________________________________________\n",
    "import os\n",
    "import tripyview         as tpv\n",
    "import shapefile         as shp\n",
    "import numpy             as np\n",
    "import xarray            as xr\n",
    "import time              as clock\n",
    "import matplotlib.pyplot as plt"
   ]
  },
  {
   "cell_type": "code",
   "execution_count": 95,
   "metadata": {
    "tags": [
     "parameters"
    ]
   },
   "outputs": [],
   "source": [
    "# Parameters\n",
    "# mesh_path ='/work/ollie/projects/clidyn/FESOM2/meshes/core2/'\n",
    "mesh_path = '/work/ollie/pscholz/mesh_fesom2.0/core2_srt_dep@node/'\n",
    "save_path = None #'~/figures/test_papermill/'\n",
    "save_fname= None\n",
    "\n",
    "#_____________________________________________________________________________________\n",
    "which_cycl= 5 # 5 # set None --> take path as in input_paths otherwise add dir of cycle\n",
    "which_mode= 'dmoc'\n",
    "\n",
    "#_____________________________________________________________________________________\n",
    "input_paths= list()\n",
    "input_paths.append('/home/ollie/pscholz/results/trr181_tke_ctrl_ck0.1_v2/')\n",
    "# input_paths.append('/home/ollie/pscholz/results/trr181_tke+idemix_jayne_bin_ck0.1/')\n",
    "# input_paths.append('/home/ollie/pscholz/results/trr181_tke+idemix_nycander_bin_ck0.1/')\n",
    "# input_paths.append('/home/ollie/pscholz/results/trr181_tke+idemix_stormtide_bin_ck0.1/')\n",
    "\n",
    "input_names= list()\n",
    "input_names.append('TKE')\n",
    "# input_names.append('TKE+IDEMIX, jayne')\n",
    "# input_names.append('TKE+IDEMIX, nycander')\n",
    "# input_names.append('TKE+IDEMIX, stormtide')\n",
    "\n",
    "vname     = 'gmoc'\n",
    "year      = [1979,2019]\n",
    "mon, day, record, box, depth = None, None, None, None, None\n",
    "\n",
    "#_____________________________________________________________________________________\n",
    "# do anomaly plots in case ref_path is not None\n",
    "ref_path  = None #'/home/ollie/pscholz/results/trr181_tke_ctrl_ck0.1_v2/' # None\n",
    "ref_name  = None #'TKE, ck=0.1' # None\n",
    "ref_year  = None #[1979,2019]\n",
    "ref_mon, ref_day, ref_record = None, None, None\n",
    "ref_cstr, ref_cnum = 'blue2red', 20\n",
    "ref_cref, ref_crange, ref_cmin, ref_cmax, ref_cfac, ref_climit = None, None, None, None, None, None\n",
    "ref_chist, ref_ctresh = True, 0.995\n",
    "ref_rescale = None\n",
    "\n",
    "#_____________________________________________________________________________________\n",
    "cstr      = 'blue2red'\n",
    "cnum      = 20\n",
    "cref      = 0\n",
    "crange, cmin, cmax, cfac, climit = None, None, None, None, None\n",
    "chist, ctresh = True, 0.995\n",
    "\n",
    "#_____________________________________________________________________________________\n",
    "ncolumn   = 2\n",
    "which_dpi = 300\n",
    "do_contour= True\n",
    "which_transf = 'dmoc'\n",
    "do_zcoord = True #False\n",
    "do_reffig = True\n",
    "figfac    = [8, 3.5] #[7, 3.5]\n",
    "do_compute= True"
   ]
  },
  {
   "cell_type": "code",
   "execution_count": 96,
   "metadata": {},
   "outputs": [
    {
     "name": "stdout",
     "output_type": "stream",
     "text": [
      " > found *.pckl file: /work/ollie/pscholz/mesh_fesom2.0/core2_srt_dep@node\n",
      " > load  *.pckl file: tripyview_fesom2_core2_srt_dep@node_focus0.pckl\n",
      " > comp. e_resol from mean\n",
      " > comp n_resol from e_resol\n",
      "___FESOM2 MESH INFO________________________\n",
      " > path            = /work/ollie/pscholz/mesh_fesom2.0/core2_srt_dep@node\n",
      " > id              = core2_srt_dep@node\n",
      " > do rot          = None\n",
      " > [al,be,ga]      = 50, 15, -90\n",
      " > do augmpbnd     = True\n",
      " > do cavity       = False\n",
      " > do lsmask       = True\n",
      " > do earea,eresol = True, True\n",
      " > do narea,nresol = True, True\n",
      "___________________________________________\n",
      " > #node           = 126858\n",
      " > #elem           = 244659\n",
      " > #lvls           = 48\n",
      "___________________________________________\n",
      "0 /home/ollie/pscholz/results/trr181_tke_ctrl_ck0.1_v2/5/\n"
     ]
    },
    {
     "name": "stderr",
     "output_type": "stream",
     "text": [
      "/home/ollie/pscholz/tripyview_github/tripyview/sub_mesh.py:903: RuntimeWarning: divide by zero encountered in true_divide\n",
      "  self.n_resol=self.n_resol/self.n_area/3.0\n"
     ]
    }
   ],
   "source": [
    "#___LOAD FESOM2 MESH___________________________________________________________________________________\n",
    "mesh=tpv.load_mesh_fesom2(mesh_path, do_rot='None', focus=0, do_info=True, do_pickle=True,\n",
    "                      do_earea=True, do_narea=True, do_eresol=[True,'mean'], do_nresol=[True,'eresol'])\n",
    "\n",
    "#______________________________________________________________________________________________________\n",
    "if (which_cycl is not None) and (which_cycl is not \"None\"): \n",
    "    for ii,ipath in enumerate(input_paths):\n",
    "        input_paths[ii] = os.path.join(ipath,'{:d}/'.format(which_cycl))\n",
    "        print(ii, input_paths[ii])\n",
    "        \n",
    "    if (ref_path is not None) and (ref_path is not \"None\"): \n",
    "        ref_path = os.path.join(ref_path,'{:d}/'.format(which_cycl))\n",
    "        print('R', ref_path)        \n",
    "        \n",
    "#______________________________________________________________________________________________________        \n",
    "cinfo=tpv.set_cinfo(cstr, cnum, crange, cmin, cmax, cref, cfac, climit, chist, ctresh)\n",
    "ref_cinfo=None\n",
    "if (ref_path is not None) and (ref_path is not \"None\"): \n",
    "    if ref_year   is None: ref_year   = year\n",
    "    if ref_mon    is None: ref_mon    = mon\n",
    "    if ref_record is None: ref_record = record    \n",
    "    cinfo['cref']=0.0 \n",
    "    ref_cinfo=tpv.set_cinfo(ref_cstr, ref_cnum, ref_crange, ref_cmin, ref_cmax, ref_cref, ref_cfac, ref_climit, ref_chist, ref_ctresh)    \n",
    "    ref_cinfo['cref']=0.0 \n",
    "else:\n",
    "    do_reffig=False    \n",
    "\n",
    "#______________________________________________________________________________________________________    \n",
    "# concatenate list = list1+list2\n",
    "if (ref_path is not None) and (ref_path is not \"None\"): \n",
    "    if isinstance(ref_path, list): \n",
    "        input_paths, input_names = ref_path + input_paths, ref_name + input_names\n",
    "    else:    \n",
    "        input_paths, input_names = list([ref_path]) + input_paths, list([ref_name]) + input_names    \n",
    "        \n",
    "#______________________________________________________________________________________________________            \n",
    "# define density levels \n",
    "# original dima\n",
    "# std_dens=[0.0000,   30.00000, 30.55556, 31.11111, 31.36000, 31.66667, 31.91000, 32.22222, 32.46000,\n",
    "# 32.77778, 33.01000, 33.33333, 33.56000, 33.88889, 34.11000, 34.44444, 34.62000, 35.00000,\n",
    "# 35.05000, 35.10622, 35.20319, 35.29239, 35.37498, 35.41300, 35.45187, 35.52380, 35.59136,\n",
    "# 35.65506, 35.71531, 35.77247, 35.82685, 35.87869, 35.92823, 35.97566, 35.98000, 36.02115,\n",
    "# 36.06487, 36.10692, 36.14746, 36.18656, 36.22434, 36.26089, 36.29626, 36.33056, 36.36383,\n",
    "# 36.39613, 36.42753, 36.45806, 36.48778, 36.51674, 36.54495, 36.57246, 36.59500, 36.59932,\n",
    "# 36.62555, 36.65117, 36.67621, 36.68000, 36.70071, 36.72467, 36.74813, 36.75200, 36.77111,\n",
    "# 36.79363, 36.81570, 36.83733, 36.85857, 36.87500, 36.87940, 36.89985, 36.91993, 36.93965,\n",
    "# 36.95904, 36.97808, 36.99682, 37.01524, 37.03336, 37.05119, 37.06874, 37.08602, 37.10303,\n",
    "# 37.11979, 37.13630, 37.15257, 37.16861, 37.18441, 37.50000, 37.75000, 40.00000]\n",
    "\n",
    "# my density layers 2nd try\n",
    "std_dens=[ 0.00000, 29.50000, 30.00000, 30.55556, 31.11111, 31.36000, 31.66667, 31.91000, 32.22222, 32.46000,\n",
    "          32.77778, 33.01000, 33.33333, 33.56000, 33.78170, 33.79659, 33.81331, 33.83206, 33.85258, 33.87502,\n",
    "          33.88889, 33.90019, 33.92843, 33.96012, 33.99567, 34.03267, 34.07050, 34.11295, 34.16058, 34.21400,\n",
    "          34.27274, 34.33865, 34.41114, 34.47728, 34.55149, 34.62872, 34.71458, 34.81014, 34.91325, 35.02337,\n",
    "          35.13865, 35.25518, 35.37026, 35.48624, 35.58763, 35.67886, 35.76112, 35.82097, 35.87630, 35.92691,\n",
    "          35.97247, 36.02033, 36.06813, 36.11950, 36.17459, 36.23291, 36.29566, 36.36239, 36.43058, 36.50178,\n",
    "          36.57474, 36.64730, 36.71590, 36.77414, 36.82096, 36.85908, 36.89139, 36.91962, 36.94532, 36.96900,\n",
    "          36.98623, 37.00269, 37.01746, 37.03056, 37.04018, 37.05134, 37.06372, 37.07111, 37.10000, 37.25556,\n",
    "          37.41111, 37.56667, 37.72222, 37.87778, 38.03333, 38.18889, 38.34444, 38.50000, 40.00000]\n"
   ]
  },
  {
   "cell_type": "code",
   "execution_count": null,
   "metadata": {
    "scrolled": false
   },
   "outputs": [
    {
     "name": "stdout",
     "output_type": "stream",
     "text": [
      "/home/ollie/pscholz/results/trr181_tke_ctrl_ck0.1_v2/5/ TKE\n"
     ]
    }
   ],
   "source": [
    "#___LOAD FESOM2 DATA___________________________________________________________________________________    \n",
    "t1 = clock.time()\n",
    "data_list = list()\n",
    "for datapath, descript in zip(input_paths, input_names): \n",
    "    print(datapath, descript)\n",
    "    data_list.append( tpv.load_dmoc_data(mesh, datapath, descript, year, which_transf, std_dens, do_info=False, do_compute=do_compute) ) # , n_area, e_area) )\n",
    "    \n",
    "#___COMPUTE XMOC_______________________________________________________________________________________\n",
    "dmoc_list = list()\n",
    "for ii, data in enumerate(data_list):\n",
    "    dmoc     = tpv.calc_dmoc(mesh, data, dlat=1.0, which_moc=vname, do_info=False, do_checkbasin=True, do_compute=False)\n",
    "    if (ref_path is not None) and (ref_path is not \"None\"): \n",
    "        if ii == 0: \n",
    "            dmoc_ref = dmoc.copy()\n",
    "            if do_reffig: dmoc_list.append(dmoc_ref) \n",
    "        else:        \n",
    "            dmoc_list.append( tpv.do_anomaly(dmoc, dmoc_ref) )\n",
    "    else:                                                   \n",
    "        dmoc_list.append( dmoc )\n",
    "print(' --> elapsed time: {} min.'.format( (clock.time()-t1)/60))"
   ]
  },
  {
   "cell_type": "code",
   "execution_count": null,
   "metadata": {},
   "outputs": [],
   "source": [
    "#___PLOT FESOM2 DATA___________________________________________________________________________________\n",
    "spath  = save_path\n",
    "sname  = vname\n",
    "slabel = dmoc_list[0]['dmoc'].attrs['str_lsave']\n",
    "if spath is not None: spath  = os.path.join(spath,'{}_{}_{}.png'.format(which_mode, sname, slabel)) \n",
    "ncolumn= np.min([ncolumn,len(dmoc_list)])    \n",
    "nrow   = np.ceil(len(dmoc_list)/ncolumn).astype('int')\n",
    "if save_fname is not None: spath = save_fname\n",
    "\n",
    "#____________________________________________________________________________________________________\n",
    "fig, ax, cbar=tpv.plot_dmoc(mesh, dmoc_list, which_moc=vname, which_transf=which_transf, \n",
    "                            cinfo=cinfo, do_reffig=do_reffig, ref_cinfo=ref_cinfo, \n",
    "                            figsize=[ncolumn*figfac[0], nrow*figfac[1]], n_rc=[nrow, ncolumn], \n",
    "                            do_save=spath, save_dpi=which_dpi, do_contour=do_contour, do_yrescale=True, do_zcoord=do_zcoord) #do_zcoord)"
   ]
  },
  {
   "cell_type": "code",
   "execution_count": null,
   "metadata": {},
   "outputs": [],
   "source": []
  }
 ],
 "metadata": {
  "celltoolbar": "Tags",
  "kernelspec": {
   "display_name": "Python 3 (ipykernel)",
   "language": "python",
   "name": "python3"
  },
  "language_info": {
   "codemirror_mode": {
    "name": "ipython",
    "version": 3
   },
   "file_extension": ".py",
   "mimetype": "text/x-python",
   "name": "python",
   "nbconvert_exporter": "python",
   "pygments_lexer": "ipython3",
   "version": "3.7.10"
  },
  "latex_envs": {
   "LaTeX_envs_menu_present": true,
   "autoclose": false,
   "autocomplete": true,
   "bibliofile": "biblio.bib",
   "cite_by": "apalike",
   "current_citInitial": 1,
   "eqLabelWithNumbers": true,
   "eqNumInitial": 1,
   "hotkeys": {
    "equation": "Ctrl-E",
    "itemize": "Ctrl-I"
   },
   "labels_anchors": false,
   "latex_user_defs": false,
   "report_style_numbering": false,
   "user_envs_cfg": false
  }
 },
 "nbformat": 4,
 "nbformat_minor": 4
}
