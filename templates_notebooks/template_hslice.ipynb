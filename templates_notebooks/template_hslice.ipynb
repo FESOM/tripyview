{
 "cells": [
  {
   "cell_type": "code",
   "execution_count": 4,
   "metadata": {},
   "outputs": [
    {
     "name": "stdout",
     "output_type": "stream",
     "text": [
      "The autoreload extension is already loaded. To reload it, use:\n",
      "  %reload_ext autoreload\n"
     ]
    }
   ],
   "source": [
    "# get_ipython().magic('matplotlib notebook')\n",
    "get_ipython().magic('matplotlib inline')\n",
    "get_ipython().magic('load_ext autoreload')\n",
    "get_ipython().magic('autoreload 2')\n",
    "#___________________________________________________________________________________________________________________\n",
    "import os\n",
    "import tripyview as tpv\n",
    "import numpy as np\n",
    "import xarray as xr"
   ]
  },
  {
   "cell_type": "code",
   "execution_count": 5,
   "metadata": {
    "tags": [
     "parameters"
    ]
   },
   "outputs": [],
   "source": [
    "# Parameters\n",
    "# mesh_path ='/work/ollie/projects/clidyn/FESOM2/meshes/core2/'\n",
    "mesh_path ='/work/ollie/pscholz/mesh_fesom2.0/core2_srt_dep@node/'\n",
    "\n",
    "save_path = None #'~/figures/test_papermill/'\n",
    "save_fname= None\n",
    "\n",
    "#_____________________________________________________________________________________\n",
    "which_cycl= 3\n",
    "which_mode= 'hslice'\n",
    "\n",
    "#_____________________________________________________________________________________\n",
    "input_paths= list()\n",
    "input_paths.append('/home/ollie/pscholz/results/trr181_tke_ctrl_ck0.1/')\n",
    "input_paths.append('/home/ollie/pscholz/results/trr181_tke+idemix_jayne09_ck0.1/')\n",
    "input_paths.append('/home/ollie/pscholz/results/trr181_tke+idemix_nycander05_ck0.1/')\n",
    "input_paths.append('/home/ollie/pscholz/results/trr181_tke+idemix_stormtide2_ck0.1/')\n",
    "\n",
    "input_names= list()\n",
    "input_names.append('TKE ck0.1')\n",
    "input_names.append('TKE+idemix,ck0.1,jayne')\n",
    "input_names.append('TKE+idemix,ck0.1,nycand')\n",
    "input_names.append('TKE+idemix,ck0.1,stormt')\n",
    "\n",
    "vname     = 'Kv*N2'\n",
    "year      = [1979,2019]\n",
    "mon, day, record, box, depth = None, None, None, None, 1000\n",
    "\n",
    "#_____________________________________________________________________________________\n",
    "# do anomaly plots in case ref_path is not None\n",
    "ref_path  = None #'/home/ollie/pscholz/results/trr181_tke_ctrl_ck0.1/' # None\n",
    "ref_name  = None #'TKE, ck=0.1' # None\n",
    "ref_year  = None # [2009,2019]\n",
    "ref_mon, ref_day, ref_record = None, None, None\n",
    "\n",
    "#_____________________________________________________________________________________\n",
    "do_clim   = True\n",
    "which_clim= 'phc3'\n",
    "clim_path = '/work/ollie/pscholz/INIT_HYDRO/phc3.0/phc3.0_annual.nc'\n",
    "\n",
    "#_____________________________________________________________________________________\n",
    "cstr      = 'blue2red'\n",
    "cnum      = 20\n",
    "cref      = None\n",
    "crange, cmin, cmax, cfac, climit = None, None, None, None, None\n",
    "\n",
    "#_____________________________________________________________________________________\n",
    "ncolumn   = 3 \n",
    "do_rescale= None #'log10'\n",
    "which_dpi = 300\n",
    "proj      = 'pc'"
   ]
  },
  {
   "cell_type": "code",
   "execution_count": 6,
   "metadata": {
    "scrolled": false
   },
   "outputs": [
    {
     "name": "stdout",
     "output_type": "stream",
     "text": [
      " > found *.pckl file: /work/ollie/pscholz/mesh_fesom2.0/core2_srt_dep@node\n",
      " > load  *.pckl file: tripyview_fesom2_core2_srt_dep@node.pckl\n",
      "___FESOM2 MESH INFO________________________\n",
      " > path            = /work/ollie/pscholz/mesh_fesom2.0/core2_srt_dep@node\n",
      " > id              = core2_srt_dep@node\n",
      " > do rot          = None\n",
      " > [al,be,ga]      = 50, 15, -90\n",
      " > do augmpbnd     = True\n",
      " > do cavity       = False\n",
      " > do lsmask       = True\n",
      " > do earea,eresol = True, True\n",
      " > do narea,nresol = True, True\n",
      "___________________________________________\n",
      " > #node           = 126858\n",
      " > #elem           = 244659\n",
      " > #lvls           = 48\n",
      "___________________________________________\n",
      "0 /home/ollie/pscholz/results/trr181_tke_ctrl_ck0.1/3/\n",
      "1 /home/ollie/pscholz/results/trr181_tke+idemix_jayne09_ck0.1/3/\n",
      "2 /home/ollie/pscholz/results/trr181_tke+idemix_nycander05_ck0.1/3/\n",
      "3 /home/ollie/pscholz/results/trr181_tke+idemix_stormtide2_ck0.1/3/\n"
     ]
    }
   ],
   "source": [
    "#___LOAD FESOM2 MESH___________________________________________________________________________________\n",
    "mesh=tpv.load_mesh_fesom2(mesh_path, do_rot='None', focus=0, do_info=True, do_pickle=True,\n",
    "                      do_earea=True, do_narea=True, do_eresol=[True,'mean'], do_nresol=[True,'eresol'])\n",
    "\n",
    "#______________________________________________________________________________________________________\n",
    "if which_cycl is not None: \n",
    "    for ii,ipath in enumerate(input_paths):\n",
    "        input_paths[ii] = os.path.join(ipath,'{:d}/'.format(which_cycl))\n",
    "        print(ii, input_paths[ii])\n",
    "    \n",
    "    if ref_path is not None:\n",
    "        ref_path = os.path.join(ref_path,'{:d}/'.format(which_cycl))\n",
    "        print('R', ref_path)\n",
    "#______________________________________________________________________________________________________\n",
    "cinfo=dict({'cstr':cstr, 'cnum':cnum})     \n",
    "if crange   is not None: cinfo['crange']=crange\n",
    "if cmin     is not None: cinfo['cmin'  ]=cmin\n",
    "if cmax     is not None: cinfo['cmax'  ]=cmax\n",
    "if cref     is not None: cinfo['cref'  ]=cref\n",
    "if cfac     is not None: cinfo['cfac'  ]=cfac\n",
    "if climit is not None: cinfo['climit']=climit    \n",
    "if ref_path is not None: cinfo['cref'  ]=0.0    \n",
    "    \n",
    "#______________________________________________________________________________________________________\n",
    "# in case of diff plots\n",
    "if ref_path is not None:\n",
    "    if ref_year   is None: ref_year   = year\n",
    "    if ref_mon    is None: ref_mon    = mon\n",
    "    if ref_record is None: ref_record = record"
   ]
  },
  {
   "cell_type": "code",
   "execution_count": null,
   "metadata": {
    "scrolled": false
   },
   "outputs": [
    {
     "name": "stdout",
     "output_type": "stream",
     "text": [
      "/home/ollie/pscholz/results/trr181_tke_ctrl_ck0.1/3/\n",
      "/home/ollie/pscholz/results/trr181_tke+idemix_jayne09_ck0.1/3/\n"
     ]
    }
   ],
   "source": [
    "#___LOAD FESOM2 REFERENCE DATA________________________________________________________________________\n",
    "if ref_path is not None:\n",
    "    print(ref_path)\n",
    "    if depth =='bottom':\n",
    "        data_ref = tpv.load_data_fesom2(mesh, ref_path, vname=vname, year=ref_year, mon=ref_mon, day=ref_day, record=ref_record, \n",
    "                                      depth=None, descript=ref_name, do_info=False) \n",
    "        data_ref = data_ref.isel(nz=xr.DataArray(mesh.n_iz, dims='nod2'), nod2=xr.DataArray(range(0,mesh.n2dn), dims='nod2'))\n",
    "    else:\n",
    "        if not vname=='Kv*N2':\n",
    "            data_ref  = tpv.load_data_fesom2(mesh, ref_path, vname=vname, year=ref_year, mon=ref_mon, day=ref_day, record=ref_record, \n",
    "                                          depth=depth, descript=ref_name, do_info=False) \n",
    "        else:    \n",
    "            data_ref  = tpv.load_data_fesom2(mesh, ref_path, vname='Kv', year=ref_year, mon=ref_mon, day=ref_day, record=ref_record, \n",
    "                                          depth=depth, descript=ref_name, do_info=False, ) \n",
    "            data2_ref = tpv.load_data_fesom2(mesh, ref_path, vname='N2', year=ref_year, mon=ref_mon, day=ref_day, record=ref_record, \n",
    "                                          depth=depth, descript=ref_name, do_info=False, ) \n",
    "            data_ref['Kv'].data = data_ref['Kv'].data * data2_ref['N2'].data\n",
    "            data_ref = data_ref.rename(dict({'Kv':'Kv*N2'}))\n",
    "            data_ref['Kv*N2'].attrs['units'], data_ref['Kv*N2'].attrs['description'], data_ref['Kv*N2'].attrs['long_name'] = 'm^2/s^3', 'Kv * N^2', 'Kv * N^2'\n",
    "            del(data2_ref)           \n",
    "            \n",
    "#___LOAD FESOM2 DATA___________________________________________________________________________________\n",
    "data_list = list()\n",
    "for datapath,descript in zip(input_paths, input_names): \n",
    "    print(datapath)\n",
    "    if depth =='bottom':\n",
    "        data = tpv.load_data_fesom2(mesh, datapath, vname=vname, year=year, mon=mon, day=day, record=record, \n",
    "                                      depth=None, descript=descript, do_info=False) \n",
    "        data = data.isel(nz=xr.DataArray(mesh.n_iz, dims='nod2'), nod2=xr.DataArray(range(0,mesh.n2dn), dims='nod2'))\n",
    "    else:\n",
    "        if not vname=='Kv*N2':\n",
    "            data = tpv.load_data_fesom2(mesh, datapath, vname=vname, year=year, mon=mon, day=day, record=record, \n",
    "                                        depth=depth, descript=descript, do_info=False) \n",
    "        else:\n",
    "            data = tpv.load_data_fesom2(mesh, datapath, vname='Kv', year=year, mon=mon, day=day, record=record, \n",
    "                                        depth=depth, descript=descript, do_info=False) \n",
    "            data2 = tpv.load_data_fesom2(mesh, datapath, vname='N2', year=year, mon=mon, day=day, record=record, \n",
    "                                        depth=depth, descript=descript, do_info=False) \n",
    "            data['Kv'].data = data['Kv'].data * data2['N2'].data\n",
    "            data = data.rename(dict({'Kv':'Kv*N2'}))\n",
    "            data['Kv*N2'].attrs['units'], data['Kv*N2'].attrs['description'], data['Kv*N2'].attrs['long_name'] = 'm^2/s^3', 'Kv * N^2', 'Kv * N^2'\n",
    "            del(data2)\n",
    "            \n",
    "    #__________________________________________________________________________________________________    \n",
    "    if ref_path is not None:\n",
    "        data_list.append(tpv.do_anomaly(data, data_ref))  \n",
    "    else:\n",
    "        data_list.append(data)  \n",
    "    del(data)\n",
    "    \n",
    "if ref_path is not None: del(data_ref)    \n",
    "    \n",
    "#___APPEND ABS CLIMATOLOGY_____________________________________________________________________________    \n",
    "if (vname in ['temp', 'salt', 'pdens'] or 'sigma' in vname) and (depth is not 'bottom') and do_clim and (ref_path is None): \n",
    "    clim_vname = vname\n",
    "    if   vname=='temp' and  which_clim.lower()=='woa18': clim_vname = 't00an1'\n",
    "    elif vname=='salt' and  which_clim.lower()=='woa18': clim_vname = 's00an1'\n",
    "    clim = tpv.load_climatology(mesh, clim_path, clim_vname, depth=depth)\n",
    "    data_list.append(clim)    \n",
    "    del(clim)"
   ]
  },
  {
   "cell_type": "code",
   "execution_count": null,
   "metadata": {},
   "outputs": [],
   "source": [
    "#___PLOT FESOM2 DATA___________________________________________________________________________________\n",
    "spath  = save_path\n",
    "sname  = vname\n",
    "slabel = data_list[0][sname].attrs['str_lsave']\n",
    "if spath is not None: spath  = os.path.join(spath,'{}_{}_{}.png'.format(which_mode, sname, slabel)) \n",
    "nrow   = np.ceil(len(data_list)/ncolumn).astype('int')\n",
    "if save_fname is not None: spath = save_fname\n",
    "pos_gap = [0.005, 0.04]\n",
    "if proj in ['nps, sps']:pos_gap = [0.005, 0.035] \n",
    "# cinfo = dict({'cstr':'blue2red', 'cref':0, 'cfac':0.5 })\n",
    "fig, ax, cbar = tpv.plot_hslice(mesh, data_list, cinfo=cinfo, box=box, n_rc=[nrow, ncolumn], \n",
    "                            figsize=[ncolumn*7, nrow*3.5], proj = proj, \n",
    "                            do_lsmask='fesom', do_rescale=do_rescale, title='descript', \n",
    "                            pos_gap=pos_gap, pos_extend=[0.03, 0.03, 0.905, 0.975], \n",
    "                            do_save=spath, save_dpi=which_dpi)"
   ]
  }
 ],
 "metadata": {
  "celltoolbar": "Tags",
  "kernelspec": {
   "display_name": "Python 3 (ipykernel)",
   "language": "python",
   "name": "python3"
  },
  "language_info": {
   "codemirror_mode": {
    "name": "ipython",
    "version": 3
   },
   "file_extension": ".py",
   "mimetype": "text/x-python",
   "name": "python",
   "nbconvert_exporter": "python",
   "pygments_lexer": "ipython3",
   "version": "3.7.10"
  },
  "latex_envs": {
   "LaTeX_envs_menu_present": true,
   "autoclose": false,
   "autocomplete": true,
   "bibliofile": "biblio.bib",
   "cite_by": "apalike",
   "current_citInitial": 1,
   "eqLabelWithNumbers": true,
   "eqNumInitial": 1,
   "hotkeys": {
    "equation": "Ctrl-E",
    "itemize": "Ctrl-I"
   },
   "labels_anchors": false,
   "latex_user_defs": false,
   "report_style_numbering": false,
   "user_envs_cfg": false
  }
 },
 "nbformat": 4,
 "nbformat_minor": 2
}
